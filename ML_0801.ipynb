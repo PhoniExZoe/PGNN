{
 "cells": [
  {
   "cell_type": "markdown",
   "metadata": {},
   "source": [
    "## **Functions and Classes**"
   ]
  },
  {
   "cell_type": "markdown",
   "metadata": {},
   "source": [
    "### **Packages and Utilities**"
   ]
  },
  {
   "cell_type": "markdown",
   "metadata": {},
   "source": [
    "#### **Import Some Packages**"
   ]
  },
  {
   "cell_type": "code",
   "execution_count": 1,
   "metadata": {},
   "outputs": [],
   "source": [
    "# PyTorch\n",
    "import torch\n",
    "import torch.nn as nn\n",
    "import torch.optim as optim\n",
    "from torch.utils.data import Dataset, DataLoader, SubsetRandomSampler\n",
    "from torchmetrics import R2Score\n",
    "\n",
    "# Data process\n",
    "import numpy as np\n",
    "import pandas as pd\n",
    "import math\n",
    "import csv\n",
    "import os\n",
    "from sklearn.preprocessing import StandardScaler, MinMaxScaler\n",
    "from sklearn.model_selection import KFold\n",
    "\n",
    "\n",
    "# Plot figure\n",
    "import matplotlib.pyplot as plt\n",
    "from matplotlib.pyplot import figure"
   ]
  },
  {
   "cell_type": "markdown",
   "metadata": {},
   "source": [
    "#### **Reproducibility**"
   ]
  },
  {
   "cell_type": "code",
   "execution_count": 2,
   "metadata": {},
   "outputs": [],
   "source": [
    "myseed = 870529  # Set a random seed for reproducibility\n",
    "torch.backends.cudnn.deterministic = True\n",
    "torch.backends.cudnn.benchmark = False\n",
    "np.random.seed(myseed)\n",
    "torch.manual_seed(myseed)\n",
    "if torch.cuda.is_available():\n",
    "    torch.cuda.manual_seed_all(myseed)"
   ]
  },
  {
   "cell_type": "markdown",
   "metadata": {},
   "source": [
    "#### **5-Fold Sampler index**"
   ]
  },
  {
   "cell_type": "code",
   "execution_count": 3,
   "metadata": {},
   "outputs": [],
   "source": [
    "def KfoldSampler(datalen, sngdatalen, init_idx, seed):\n",
    "    data_idx = np.arange(datalen)\n",
    "    kf = KFold(n_splits=5, shuffle=True, random_state=seed)\n",
    "    stored_idx = {'fold1_tr':'', 'fold1_vd':'', 'fold2_tr':'', 'fold2_vd':'',\n",
    "    'fold3_tr':'', 'fold3_vd':'', 'fold4_tr':'', 'fold4_vd':'','fold5_tr':'', 'fold5_vd':''}\n",
    "\n",
    "    for fold, [tr_idx, vd_idx] in enumerate(kf.split(data_idx)) :\n",
    "        tr_cv = np.array([], dtype=int)\n",
    "        vd_cv = np.array([], dtype=int)\n",
    "        for tr_a in tr_idx :\n",
    "            temp = np.arange(tr_a*sngdatalen+init_idx, (tr_a+1)*sngdatalen+init_idx)\n",
    "            tr_cv = np.append(tr_cv, temp)\n",
    "        np.random.shuffle(tr_cv)\n",
    "        stored_idx['fold{:d}_tr'.format(fold+1)]=tr_cv\n",
    "\n",
    "\n",
    "        for vd_a in vd_idx :\n",
    "            temp = np.arange(vd_a*sngdatalen+init_idx, (vd_a+1)*sngdatalen+init_idx)\n",
    "            vd_cv = np.append(vd_cv, temp)\n",
    "        \n",
    "        stored_idx['fold{:d}_vd'.format(fold+1)]=vd_cv\n",
    "\n",
    "    return stored_idx\n",
    "    "
   ]
  },
  {
   "cell_type": "code",
   "execution_count": 4,
   "metadata": {},
   "outputs": [
    {
     "name": "stdout",
     "output_type": "stream",
     "text": [
      "60000\n"
     ]
    }
   ],
   "source": [
    "#For 300,000 data\n",
    "lowspeed_idx = KfoldSampler(10, 10000, 0, myseed)\n",
    "midspeed_idx = KfoldSampler(20, 5000, 100000, myseed)\n",
    "highspeed_idx = KfoldSampler(40, 2500, 200000, myseed)\n",
    "\n",
    "# # For 150,000 data\n",
    "# lowspeed_idx = KfoldSampler(5, 10000, 0, myseed)\n",
    "# midspeed_idx = KfoldSampler(10, 5000, 50000, myseed)\n",
    "# highspeed_idx = KfoldSampler(20, 2500, 100000, myseed)\n",
    "\n",
    "# For 60,000 data\n",
    "# lowspeed_idx = KfoldSampler(2, 10000, 0, myseed)\n",
    "# midspeed_idx = KfoldSampler(4, 5000, 40000, myseed)\n",
    "# highspeed_idx = KfoldSampler(8, 2500, 80000, myseed)\n",
    "\n",
    "# Get keys from one of the dictionary\n",
    "ks = [k for k in lowspeed_idx.keys()]\n",
    "\n",
    "kfold_idx = {k: np.stack([lowspeed_idx[k], midspeed_idx[k], highspeed_idx[k]], axis=0).flatten() for k in ks}\n",
    "\n",
    "print(len(kfold_idx['fold1_vd']))\n",
    "\n"
   ]
  },
  {
   "cell_type": "markdown",
   "metadata": {},
   "source": [
    "#### **Switch to GPU if available**"
   ]
  },
  {
   "cell_type": "code",
   "execution_count": 5,
   "metadata": {},
   "outputs": [],
   "source": [
    "def get_device():\n",
    "    ''' Get device (if GPU is available, use GPU) '''\n",
    "    return 'cuda' if torch.cuda.is_available() else 'cpu'"
   ]
  },
  {
   "cell_type": "markdown",
   "metadata": {},
   "source": [
    "### **Dataset**\n",
    "\n",
    "We have two kinds of datasets:\n",
    "* `train`: for training and validation\n",
    "* `test`: for testing \n",
    "\n",
    "The `TrajDataset` below does:\n",
    "* read `.xlsx` files\n",
    "* extract features\n",
    "* normalize features\n"
   ]
  },
  {
   "cell_type": "code",
   "execution_count": 6,
   "metadata": {},
   "outputs": [],
   "source": [
    "class TrajDataset(Dataset):\n",
    "    def __init__(self, path, mode='test'):\n",
    "\n",
    "        # Read data to dataframe\n",
    "        df = pd.read_excel(path)\n",
    "\n",
    "        # Split data to feature and target & Transfer to numpy \n",
    "        feature_np = df.iloc[:, 1:10].to_numpy()\n",
    "        target_np = df.iloc[:, 10:13].to_numpy()\n",
    "        \n",
    "        # Transfer data to tensor\n",
    "        self.feature = torch.Tensor(feature_np)\n",
    "        self.target = torch.Tensor(target_np)\n",
    "\n",
    "        # Transfer feature data to (0,1) -> MinMaxScalar\n",
    "        self.feature[:, 1:4] = (self.feature[:, 1:4] + 150) / 300\n",
    "        self.feature[:, 4:7] = (self.feature[:, 4:7] + 830) / 1660      \n",
    "        self.feature[:, 7:10] = (self.feature[:, 7:10] + 980) / 1960\n",
    "\n",
    "        # Get sample number of data\n",
    "        self.dim = self.feature.shape[1]\n",
    "\n",
    "        print('Finished reading the Trajectory Dataset ({} samples found, each dim = {})'\n",
    "              .format(len(self.feature), self.dim))\n",
    "\n",
    "    def __getitem__(self, index) :\n",
    "\n",
    "        return self.feature[index], self.target[index]\n",
    "\n",
    "    def __len__(self) :\n",
    "\n",
    "        return len(self.feature)"
   ]
  },
  {
   "cell_type": "markdown",
   "metadata": {},
   "source": [
    "### **Deep Neural Network**\n",
    "\n",
    "`NeuralNet` is an `nn.Module` designed for neural network.\n",
    "The DNN consists of 7 fully-connected layers with Softplus activation.\n",
    "This module also included a function `cal_loss` for calculating loss."
   ]
  },
  {
   "cell_type": "code",
   "execution_count": 8,
   "metadata": {},
   "outputs": [],
   "source": [
    "class DDNN(nn.Module) : \n",
    "    def __init__(self, layers):\n",
    "        super(DDNN, self).__init__()\n",
    "\n",
    "        input_dim = 9\n",
    "        output_dim = 3\n",
    "\n",
    "        h1, h2, h3 = layers[1], layers[2], layers[3]\n",
    "        h4, h5  = layers[4], layers[5]\n",
    "\n",
    "        # Layer Strucutre\n",
    "        self.l1 = nn.Linear(input_dim, h1)\n",
    "        self.l2 = nn.Linear(h1, h2)\n",
    "        self.l3 = nn.Linear(h2, h3)\n",
    "        self.l4 = nn.Linear(h3, h4)\n",
    "        self.l5 = nn.Linear(h4, h5)\n",
    "        self.l6 = nn.Linear(h5, output_dim)\n",
    "\n",
    "\n",
    "        # Define Activation Function \n",
    "        # Use Softplus for smoother result (compared with ReLU)\n",
    "        self.act1 = nn.Softplus()\n",
    "        self.act2 = nn.Softplus()\n",
    "        self.act3 = nn.Softplus()\n",
    "        self.act4 = nn.Softplus()\n",
    "        self.act5 = nn.Softplus()\n",
    "       \n",
    "\n",
    "    def forward(self, x):\n",
    "        \n",
    "        x = self.l1(x)\n",
    "        x = self.act1(x)\n",
    "        x = self.l2(x)\n",
    "        x = self.act2(x)\n",
    "        x = self.l3(x)\n",
    "        x = self.act3(x)\n",
    "        x = self.l4(x)\n",
    "        x = self.act4(x)\n",
    "        x = self.l5(x)\n",
    "        x = self.act5(x)\n",
    "        x = self.l6(x)\n",
    "\n",
    "        return x\n",
    "    \n"
   ]
  },
  {
   "cell_type": "markdown",
   "metadata": {},
   "source": [
    "#### **Get hidden layer value**"
   ]
  },
  {
   "cell_type": "code",
   "execution_count": 9,
   "metadata": {},
   "outputs": [],
   "source": [
    "class Hook():\n",
    "    def __init__(self, module, backward=False):\n",
    "        if backward==False:\n",
    "            self.hook = module.register_forward_hook(self.hook_fn)\n",
    "        else:\n",
    "            self.hook = module.register_backward_hook(self.hook_fn)\n",
    "    def hook_fn(self, module, input, output):\n",
    "        self.input = input\n",
    "        self.output = output\n",
    "    def close(self):\n",
    "        self.hook.remove()"
   ]
  },
  {
   "cell_type": "markdown",
   "metadata": {},
   "source": [
    "#### **Inverse Dynamics**"
   ]
  },
  {
   "cell_type": "code",
   "execution_count": 11,
   "metadata": {},
   "outputs": [],
   "source": [
    "def InvDyn(tk_space):\n",
    "\n",
    "    samples = tk_space.shape[0]    \n",
    "    # Parameters\n",
    "    unit = 1000\n",
    "    L_init = (518.067753315)/unit\n",
    "    D = (450 - 160)/unit\n",
    "    Norm_Z = 429.295/unit\n",
    "\n",
    "    # Task space data\n",
    "    x_raw, y_raw, z_raw = tk_space[:, 0], tk_space[:, 1], tk_space[: , 2]\n",
    "    x_d_raw, y_d_raw, z_d_raw = tk_space[:, 3], tk_space[:, 4], tk_space[: , 5]\n",
    "    x_dd_raw, y_dd_raw, z_dd_raw = tk_space[:, 6], tk_space[:, 7], tk_space[:, 8]\n",
    "\n",
    "\n",
    "    x, y, z = (300*x_raw-150)/unit, (300*y_raw-150)/unit, (300*z_raw-150)/unit\n",
    "    x_d, y_d, z_d = (1660*x_d_raw-830)/unit, (1660*y_d_raw-830)/unit, (1660*z_d_raw-830)/unit\n",
    "    x_dd, y_dd, z_dd = (1960 * x_dd_raw - 980)/unit, (1960 * y_dd_raw - 980)/unit, (1960 * z_dd_raw - 980)/unit\n",
    "\n",
    "\n",
    "    L1 = torch.sqrt( x**2 + (y-D)**2 + (z-Norm_Z)**2 ) \n",
    "    L2 = torch.sqrt( (x + math.sqrt(3) * D / 2) **2 + ( y+D/2 )**2 + (z-Norm_Z)**2 ) \n",
    "    L3 = torch.sqrt( (x - math.sqrt(3) * D / 2) **2 + ( y+D/2 )**2 + (z-Norm_Z)**2 ) \n",
    "    \n",
    "    L1_d = x / L1 * x_d + ( y - D ) / L1 * y_d + ( z - Norm_Z ) / L1 * z_d  \n",
    "    L2_d = (x + math.sqrt(3) * D / 2 ) / L2 * x_d + ( y + D / 2 ) / L2 * y_d + ( z - Norm_Z ) / L2 * z_d\n",
    "    L3_d = (x - math.sqrt(3) * D / 2 ) / L3 * x_d + ( y + D / 2 ) / L3 * y_d + ( z - Norm_Z ) / L3 * z_d \n",
    "\n",
    "    L1_dd =  x / L1 * (x_dd - x_d * L1_d/L1) + x_d**2 / L1 + \\\n",
    "        ( y - D ) * (y_dd - y_d * L1_d / L1) + y_d**2 / L1 + \\\n",
    "        ( z - Norm_Z ) * (z_dd - z_d * L1_d / L1) + z_d**2 / L1 \n",
    "    L2_dd = (x + math.sqrt(3) * D / 2 ) / L2 * (x_dd - x_d * L2_d / L2) + x_d**2 / L2 + \\\n",
    "        (y + D / 2) / L2 * (y_dd - y_d * L2_d / L2) + y_d**2 / L2 + \\\n",
    "        ( z - Norm_Z ) / L2 * (z_dd - z_d * L2_d / L2) + z_d**2 / L2\n",
    "    L3_dd = (x - math.sqrt(3) * D / 2 ) / L3 * (x_dd - x_d * L3_d / L3) + x_d**2 / L3 + \\\n",
    "        (y + D / 2) / L3 * (y_dd - y_d * L3_d / L3) + y_d**2 / L3 + \\\n",
    "        ( z - Norm_Z ) / L3 * (z_dd - z_d * L3_d / L3) + z_d**2 / L3\n",
    "\n",
    "    L1, L2, L3 =  torch.reshape(L1, (samples, -1)), torch.reshape(L2, (samples, -1)), torch.reshape(L3, (samples, -1))  \n",
    "    L1_d, L2_d, L3_d =  torch.reshape(L1_d, (samples, -1)), torch.reshape(L2_d, (samples, -1)), torch.reshape(L3_d, (samples, -1))\n",
    "    L1_dd, L2_dd, L3_dd =  torch.reshape(L1_dd, (samples, -1)), torch.reshape(L2_dd, (samples, -1)), torch.reshape(L3_dd, (samples, -1)) \n",
    "            \n",
    "    jt_space = torch.cat((L1, L2, L3, L1_d, L2_d, L3_d, L1_dd, L2_dd, L3_dd),1)\n",
    "    \n",
    "    return jt_space"
   ]
  },
  {
   "cell_type": "markdown",
   "metadata": {},
   "source": [
    "#### **Custom Loss**"
   ]
  },
  {
   "cell_type": "code",
   "execution_count": 12,
   "metadata": {},
   "outputs": [],
   "source": [
    "class CustomLoss(nn.Module):\n",
    "    def __init__(self, mode='mse'):\n",
    "        super(CustomLoss, self).__init__()\n",
    "        self.mode = mode\n",
    "\n",
    "    def forward(self, output, target, tk_space, jt_space):\n",
    "\n",
    "        if self.mode == 'phys1':\n",
    "\n",
    "            jt_target = InvDyn(tk_space) \n",
    "\n",
    "            # print('jt_target : ')\n",
    "            # print(jt_target)\n",
    "\n",
    "            mse_loss = torch.mean((output-target)**2)\n",
    "\n",
    "            pen_loss = torch.mean((jt_space-jt_target)**2)\n",
    "\n",
    "            penalty = 10**(2)\n",
    "\n",
    "            total_loss = mse_loss + penalty * pen_loss\n",
    "\n",
    "            return total_loss, mse_loss, pen_loss\n",
    "\n",
    "        elif self.mode == 'phys2':\n",
    "            \n",
    "            jt_target = InvDyn(tk_space) \n",
    "\n",
    "            mse_loss = torch.mean((output-target)**2)\n",
    "\n",
    "            # pos_pred, vel_pred, accel_pred = torch.split(jt_space, 3, dim = 1)\n",
    "\n",
    "\n",
    "\n",
    "            # pos_target, vel_target, accel_target = torch.split(jt_space, 3, dim = 1)\n",
    "\n",
    "            # pos_loss = torch.mean((pos_pred-pos_target)**2)\n",
    "            # vel_loss = torch.mean((vel_pred-vel_target)**2)\n",
    "            # accel_loss = torch.mean((accel_pred-accel_target)**2)\n",
    "\n",
    "            # penalty = 5*10**(1)\n",
    "\n",
    "            # pen_loss = penalty * ( pos_loss + vel_loss + accel_loss )\n",
    "\n",
    "            pen_loss = torch.mean((jt_space-jt_target)**2)\n",
    "\n",
    "            penalty = 100\n",
    "\n",
    "            pen_loss_total =  penalty * pen_loss\n",
    "\n",
    "            total_loss = mse_loss + pen_loss_total\n",
    "\n",
    "\n",
    "            return total_loss, mse_loss, pen_loss\n",
    "\n",
    "\n",
    "        elif self.mode == 'phys3':\n",
    "\n",
    "            # Parameters\n",
    "            L_init = 518.067753315/1000\n",
    "            D = (450 - 160)/1000\n",
    "            Norm_Z = 429.295/1000\n",
    "            # Task space data\n",
    "            x_raw, y_raw, z_raw = tk_space[:, 0], tk_space[:, 1], tk_space[: , 2]\n",
    "            x_d_raw, y_d_raw, z_d_raw = tk_space[:, 3], tk_space[:, 4], tk_space[: , 5]\n",
    "            x_dd_raw, y_dd_raw, z_dd_raw = tk_space[:, 6], tk_space[:, 7], tk_space[:, 8]\n",
    "\n",
    "            L1_pred, L2_pred, L3_pred = jt_space[:, 0], jt_space[:, 1], jt_space[: , 2]\n",
    "            L1_d_pred, L2_d_pred, L3_d_pred = jt_space[:, 3], jt_space[:, 4], jt_space[: , 5]\n",
    "            L1_dd_pred, L2_dd_pred, L3_dd_pred = jt_space[:, 6], jt_space[:, 7], jt_space[:, 8]\n",
    "\n",
    "            x, y, z = (300*x_raw-150)/100, (300*y_raw-150)/100, (300*z_raw-150)/100\n",
    "            x_d, y_d, z_d = (1660*x_d_raw-830)/100, (1660*y_d_raw-830)/100, (1660*z_d_raw-830)/100\n",
    "            x_dd, y_dd, z_dd = (1960 * x_dd_raw - 980)/100, (1960 * y_dd_raw - 980)/100, (1960 * z_dd_raw - 980)/100\n",
    "\n",
    "            L1_target = torch.sqrt( x**2 + (y-D)**2 + (z-Norm_Z)**2 ) \n",
    "            L2_target = torch.sqrt( (x + math.sqrt(3) * D / 2) **2 + ( y+D/2 )**2 + (z-Norm_Z)**2 ) \n",
    "            L3_target = torch.sqrt( (x - math.sqrt(3) * D / 2) **2 + ( y+D/2 )**2 + (z-Norm_Z)**2 ) \n",
    "            \n",
    "            L1_d_target = x / L1_target * x_d + ( y - D ) / L1_target * y_d + ( z - Norm_Z ) / L1_target * z_d  \n",
    "            L2_d_target = (x + math.sqrt(3) * D / 2 ) / L2_target * x_d + ( y + D / 2 ) / L2_target * y_d + ( z - Norm_Z ) / L2_target * z_d\n",
    "            L3_d_target = (x - math.sqrt(3) * D / 2 ) / L3_target * x_d + ( y + D / 2 ) / L3_target * y_d + ( z - Norm_Z ) / L3_target * z_d \n",
    "\n",
    "            L1_dd_target =  x / L1_target * (x_dd - x_d * L1_d_target/L1_target) + x_d**2 / L1_target + \\\n",
    "                ( y - D ) * (y_dd - y_d * L1_d_target / L1_target) + y_d**2 / L1_target + \\\n",
    "                ( z - Norm_Z ) * (z_dd - z_d * L1_d_target / L1_target) + z_d**2 / L1_target\n",
    "            L2_dd_target = (x + math.sqrt(3) * D / 2 ) / L2_target * (x_dd - x_d * L2_d_target / L2_target) + x_d**2 / L2_target + \\\n",
    "                (y + D / 2) / L2_target * (y_dd - y_d * L2_d_target / L2_target) + y_d**2 / L2_target + \\\n",
    "                ( z - Norm_Z ) / L2_target * (z_dd - z_d * L2_d_target / L2_target) + z_d**2 / L2_target\n",
    "            L3_dd_target = (x - math.sqrt(3) * D / 2 ) / L3_target * (x_dd - x_d * L3_d_target / L3_target) + x_d**2 / L3_target + \\\n",
    "                (y + D / 2) / L3_target * (y_dd - y_d * L3_d_target / L3_target) + y_d**2 / L3_target + \\\n",
    "                ( z - Norm_Z ) / L3_target * (z_dd - z_d * L3_d_target / L3_target) + z_d**2 / L3_target\n",
    "\n",
    "            # print(L1_target.shape[0], L1_target.shape[1])\n",
    "\n",
    "            # L1_target, L2_target, L3_target =  torch.reshape(L1_target, (samples, -1)), torch.reshape(L2_target, (samples, -1)), torch.reshape(L3_target, (samples, -1))  \n",
    "            # L1_d_target, L2_d_target, L3_d_target =  torch.reshape(L1_d_target, (samples, -1)), torch.reshape(L2_d_target, (samples, -1)), torch.reshape(L3_d_target, (samples, -1))\n",
    "            # L1_dd_target, L2_dd_target, L3_dd_target =  torch.reshape(L1_dd_target, (samples, -1)), torch.reshape(L2_dd_target, (samples, -1)), torch.reshape(L3_dd_target, (samples, -1)) \n",
    "\n",
    "            pos_target, pos_pred = torch.stack((L1_target, L2_target, L3_target), -1), torch.stack((L1_pred, L2_pred, L3_pred), -1)\n",
    "            vel_target, vel_pred = torch.stack((L1_d_target, L2_d_target, L3_d_target), -1), torch.stack((L1_d_pred, L2_d_pred, L3_d_pred), -1) \n",
    "            acc_target, acc_pred = torch.stack((L1_dd_target, L2_dd_target, L3_dd_target), -1), torch.stack((L1_dd_pred, L2_dd_pred, L3_dd_pred), -1) \n",
    "\n",
    "            mse_loss = torch.mean((output-target)**2)\n",
    "            pos_loss = torch.mean((pos_pred-pos_target)**2)\n",
    "            vel_loss = torch.mean((vel_pred-vel_target)**2)\n",
    "            acc_loss = torch.mean((acc_pred-acc_target)**2)\n",
    "\n",
    "            pos_pen = 1\n",
    "            vel_pen = 1\n",
    "            acc_pen = 1\n",
    "\n",
    "            pen_loss = pos_loss + vel_loss + acc_loss\n",
    "\n",
    "            total_loss = mse_loss + pos_pen * pos_loss + vel_pen * vel_loss + acc_pen * acc_loss\n",
    "\n",
    "            return total_loss, mse_loss, pen_loss\n",
    "        \n",
    "        else :\n",
    "\n",
    "            jt_target = InvDyn(tk_space) \n",
    "\n",
    "            mse_loss = torch.mean((output-target)**2)\n",
    "\n",
    "            pen_loss = torch.mean((jt_space-jt_target)**2)\n",
    "\n",
    "            penalty = 0\n",
    "\n",
    "            total_loss = mse_loss + penalty * pen_loss\n",
    "\n",
    "            return total_loss, mse_loss, pen_loss\n",
    "\n",
    "       "
   ]
  },
  {
   "cell_type": "markdown",
   "metadata": {},
   "source": [
    "### **Training/Validation**"
   ]
  },
  {
   "cell_type": "markdown",
   "metadata": {},
   "source": [
    "#### **Training**"
   ]
  },
  {
   "cell_type": "code",
   "execution_count": 13,
   "metadata": {},
   "outputs": [],
   "source": [
    "def train(tr_dataset, tr_idx, vd_idx, config, seed, device):\n",
    "\n",
    "    n_epochs = config['n_epochs']\n",
    "\n",
    "    loss_record = {'tr_loss': [], 'vd_loss': [], 'tr_mse':[], 'vd_mse':[], 'tr_pen':[],\n",
    "     'tr_pen':[], 'vd_pen':[],'tr_acc': [], 'vd_acc': []}\n",
    "\n",
    "    # R2 score object - ('uniform_average' for average, 'raw_value' for each target)             \n",
    "    r2score = R2Score(num_outputs=3, multioutput='uniform_average').to(device, non_blocking=True) \n",
    "\n",
    "    # Initial model and optimizer in each fold\n",
    "    model = DDNN(config['layers']).to(device)\n",
    "    optimizer = getattr(torch.optim, config['optimizer'])(\n",
    "            model.parameters(), **config['optim_hparas'])\n",
    "            \n",
    "    criterion = CustomLoss(mode='phys2')\n",
    "\n",
    "    hookF = [Hook(layer[1]) for layer in list(model._modules.items())]\n",
    "\n",
    "    tr_sampler = SubsetRandomSampler(tr_idx)\n",
    "    vd_sampler = SubsetRandomSampler(vd_idx)\n",
    "\n",
    "    # Implement k-Fold index to dataset & Create dataloader \n",
    "    tr_loader = DataLoader(tr_dataset, config['batch_size'], shuffle = False, \n",
    "    drop_last=False, sampler=tr_sampler, num_workers=0, pin_memory=True)\n",
    "\n",
    "    vd_loader = DataLoader(tr_dataset, config['batch_size'], shuffle = False, \n",
    "    drop_last=False, sampler=vd_sampler, num_workers=0, pin_memory=True)\n",
    "\n",
    "    # Minimum loss - \n",
    "    # Initial epoch number and early stop (avoid overfitting)\n",
    "    min_loss = 1000000000.\n",
    "    epoch = 0\n",
    "    early_stop_cnt = 0\n",
    "\n",
    "    while epoch < n_epochs :\n",
    "        \n",
    "        # Model Training\n",
    "        model.train()                                   # Model train mode - weight, bias is modifidable\n",
    "\n",
    "        for x, y in tr_loader:\n",
    "            \n",
    "            optimizer.zero_grad()                       # Zero all gradient calculated by optimizer\n",
    "            \n",
    "            # Stack x, y into device (either cpu or gpu) \n",
    "            x, y = x.to(device), y.to(device)           # The length of x, y are batch size\n",
    "            pred = model(x)\n",
    "\n",
    "            jtspace = hookF[2].output\n",
    "\n",
    "            tr_loss, tr_mse, tr_pen = criterion(pred, y, x, jtspace)            # Calculate loss with each batch (Criterion within CLASS model)\n",
    "            tr_loss.backward()                          # Backpropagation (calculate each neuron gradient in terms of weight and bias)\n",
    "            optimizer.step()                            # Change each weight and bias with optimizer\n",
    "            \n",
    "            # Calculate training R2 score in each batch \n",
    "            idx = [0, 1, 2]\n",
    "            tr_accuracy = r2score(pred[:, idx], y[:, idx])\n",
    "\n",
    "            # Store training record in each batch\n",
    "            loss_record['tr_loss'].append(tr_loss.detach().cpu().item())\n",
    "            loss_record['tr_mse'].append(tr_mse.detach().cpu().item())\n",
    "            loss_record['tr_pen'].append(tr_pen.detach().cpu().item())\n",
    "            loss_record['tr_acc'].append(tr_accuracy.item())\n",
    "\n",
    "        # Model validation\n",
    "        vd_loss, vd_mse, vd_pen, vd_accuracy = valid(vd_loader, model, criterion, hookF, device, r2score)\n",
    "\n",
    "        \n",
    "        if vd_mse < min_loss :  \n",
    "            \n",
    "            min_loss = vd_mse\n",
    "            print('Saving model (epoch = {:4d}, loss = {:.4f}, mse_loss = {:.4f}, pen_loss = {:.4f}, acc = {:.4f})'\n",
    "                    .format(epoch + 1, vd_loss, min_loss, vd_pen, vd_accuracy))\n",
    "            torch.save(model.state_dict(), config['save_path'])  # Save model to specified path\n",
    "            early_stop_cnt = 0\n",
    "        else:\n",
    "            early_stop_cnt +=1 \n",
    "        epoch += 1\n",
    "\n",
    "        loss_record['vd_loss'].append(vd_loss)\n",
    "        loss_record['vd_mse'].append(vd_mse)\n",
    "        loss_record['vd_pen'].append(vd_pen)\n",
    "        loss_record['vd_acc'].append(vd_accuracy.item())\n",
    "        \n",
    "        if early_stop_cnt > config['early_stop']:\n",
    "            # Stop training if your model stops improving for \"config['early_stop']\" epochs.\n",
    "            break \n",
    "\n",
    "    print('Finished training after {} epochs'.format( epoch))\n",
    "\n",
    "    return min_loss, loss_record \n",
    "\n"
   ]
  },
  {
   "cell_type": "markdown",
   "metadata": {},
   "source": [
    "#### **Validation**"
   ]
  },
  {
   "cell_type": "code",
   "execution_count": 14,
   "metadata": {},
   "outputs": [],
   "source": [
    "def valid(vd_loader, model, criterion, hookF, device, r2score):\n",
    "\n",
    "    model.eval()                        # Model evaluation mode - weight, bias is not modifidable\n",
    "    \n",
    "    total_loss = 0\n",
    "    total_vd_mse = 0\n",
    "    total_vd_pen = 0\n",
    "\n",
    "    # Create torch to store prediction and target data\n",
    "    temp_pred, temp_y = torch.ones(1, 3).to(device, non_blocking=True), torch.ones(1, 3).to(device, non_blocking=True)\n",
    "\n",
    "    for x, y in vd_loader:\n",
    "\n",
    "        # Stack x, y into device (either cpu or gpu) \n",
    "        x, y = x.to(device), y.to(device)                       # The length of x, y are batch size        \n",
    "        \n",
    "        # No gradient is update in this region\n",
    "        with torch.no_grad():\n",
    "\n",
    "            pred = model(x)\n",
    "            jtspace = hookF[2].output\n",
    "\n",
    "            # Store prediction and target data\n",
    "            temp_pred = torch.cat((temp_pred, pred), 0)\n",
    "            temp_y = torch.cat((temp_y, y), 0)\n",
    "            vd_loss, vd_mse, vd_pen = criterion(pred, y, x, jtspace)             # Calculate loss with each batch (Criterion within CLASS model)\n",
    "        \n",
    "        # total loss - add all loss in each batch \n",
    "        # MSE  = error**2 / N\n",
    "        total_vd_mse = total_vd_mse + vd_mse.detach().cpu().item() * len(x)\n",
    "        total_vd_pen = total_vd_pen + vd_pen.detach().cpu().item() * len(x)\n",
    "        total_loss = total_loss + vd_loss.detach().cpu().item() * len(x)    # ( *len(x) means error**2)            \n",
    "\n",
    "    # total_loss/len to get the correct MSE in terms of a epoch\n",
    "    total_loss = total_loss / len(vd_loader.dataset)            # Calculate validation loss with each epoch (Criterion within CLASS model)\n",
    "    total_vd_mse = total_vd_mse / len(vd_loader.dataset)\n",
    "    total_vd_pen = total_vd_pen / len(vd_loader.dataset)\n",
    "    \n",
    "    # Delete the initail value of tensor\n",
    "    temp_pred = temp_pred[torch.arange(temp_pred.size(0)) != 0]\n",
    "    temp_y = temp_y[torch.arange(temp_y.size(0)) != 0]\n",
    "\n",
    "    # Calculate validation R2 score in each epoch\n",
    "    idx = [0, 1, 2]\n",
    "    vd_accuracy = r2score(temp_pred[:, idx], temp_y[:, idx])\n",
    "\n",
    "    return total_loss, total_vd_mse, total_vd_pen, vd_accuracy"
   ]
  },
  {
   "cell_type": "markdown",
   "metadata": {},
   "source": [
    "### **Hyper-parameters Setup**\n",
    "\n",
    "`config` contains hyper-parameters for training and the path to save your model."
   ]
  },
  {
   "cell_type": "code",
   "execution_count": 15,
   "metadata": {},
   "outputs": [],
   "source": [
    "device = get_device()\n",
    "os.makedirs('models', exist_ok=True) \n",
    "\n",
    "config = {\n",
    "    'n_epochs': 15,                    # maximum number of epochs\n",
    "    'batch_size': 16,                   # mini-batch size for dataloader\n",
    "    'optimizer': 'Adam',                # optimization algorithm (optimizer in torch.optim)\n",
    "    'optim_hparas': {                   # hyper-parameters for the optimizer (depends on which optimizer you are using)\n",
    "        'lr': 0.0005433177089293607                     # learning rate of Adam\n",
    "    },\n",
    "    'layers': np.array([9, 189, 119, 9, 53, 85, 3], dtype='int64'),    # layers of NN architecture\n",
    "    'early_stop': 200,                  # early stopping epochs (the number epochs since your model's last improvement)\n",
    "    'save_path': 'models/model.pt'      # your model will be saved here\n",
    "}"
   ]
  },
  {
   "cell_type": "markdown",
   "metadata": {},
   "source": [
    "## **Code Execute from HERE~~**"
   ]
  },
  {
   "cell_type": "markdown",
   "metadata": {},
   "source": [
    "### **Load Data**"
   ]
  },
  {
   "cell_type": "code",
   "execution_count": 16,
   "metadata": {},
   "outputs": [
    {
     "name": "stdout",
     "output_type": "stream",
     "text": [
      "Finished reading the Trajectory Dataset (300000 samples found, each dim = 9)\n"
     ]
    }
   ],
   "source": [
    "tr_path = os.path.abspath(\"./Resources/TrainingData_PeriodicTraj.xlsx\")\n",
    "\n",
    "tr_dataset = TrajDataset(tr_path)"
   ]
  },
  {
   "cell_type": "markdown",
   "metadata": {},
   "source": [
    "### **Start Training**"
   ]
  },
  {
   "cell_type": "code",
   "execution_count": 17,
   "metadata": {},
   "outputs": [
    {
     "name": "stdout",
     "output_type": "stream",
     "text": [
      "Fold 1\n"
     ]
    },
    {
     "ename": "KeyboardInterrupt",
     "evalue": "",
     "output_type": "error",
     "traceback": [
      "\u001b[1;31m---------------------------------------------------------------------------\u001b[0m",
      "\u001b[1;31mKeyboardInterrupt\u001b[0m                         Traceback (most recent call last)",
      "\u001b[1;32mf:\\NTHU Document\\數位資料\\畢業論文資料\\模型與計算資料\\MachineLearningForInverseDynamics\\PGNN_0801_CVsplit.ipynb Cell 33\u001b[0m in \u001b[0;36m<cell line: 5>\u001b[1;34m()\u001b[0m\n\u001b[0;32m      <a href='vscode-notebook-cell:/f%3A/NTHU%20Document/%E6%95%B8%E4%BD%8D%E8%B3%87%E6%96%99/%E7%95%A2%E6%A5%AD%E8%AB%96%E6%96%87%E8%B3%87%E6%96%99/%E6%A8%A1%E5%9E%8B%E8%88%87%E8%A8%88%E7%AE%97%E8%B3%87%E6%96%99/MachineLearningForInverseDynamics/PGNN_0801_CVsplit.ipynb#X43sZmlsZQ%3D%3D?line=6'>7</a>\u001b[0m tr_idx \u001b[39m=\u001b[39m kfold_idx[\u001b[39m'\u001b[39m\u001b[39mfold\u001b[39m\u001b[39m{}\u001b[39;00m\u001b[39m_tr\u001b[39m\u001b[39m'\u001b[39m\u001b[39m.\u001b[39mformat(fold\u001b[39m+\u001b[39m\u001b[39m1\u001b[39m)]\n\u001b[0;32m      <a href='vscode-notebook-cell:/f%3A/NTHU%20Document/%E6%95%B8%E4%BD%8D%E8%B3%87%E6%96%99/%E7%95%A2%E6%A5%AD%E8%AB%96%E6%96%87%E8%B3%87%E6%96%99/%E6%A8%A1%E5%9E%8B%E8%88%87%E8%A8%88%E7%AE%97%E8%B3%87%E6%96%99/MachineLearningForInverseDynamics/PGNN_0801_CVsplit.ipynb#X43sZmlsZQ%3D%3D?line=7'>8</a>\u001b[0m vd_idx \u001b[39m=\u001b[39m kfold_idx[\u001b[39m'\u001b[39m\u001b[39mfold\u001b[39m\u001b[39m{}\u001b[39;00m\u001b[39m_vd\u001b[39m\u001b[39m'\u001b[39m\u001b[39m.\u001b[39mformat(fold\u001b[39m+\u001b[39m\u001b[39m1\u001b[39m)]\n\u001b[1;32m----> <a href='vscode-notebook-cell:/f%3A/NTHU%20Document/%E6%95%B8%E4%BD%8D%E8%B3%87%E6%96%99/%E7%95%A2%E6%A5%AD%E8%AB%96%E6%96%87%E8%B3%87%E6%96%99/%E6%A8%A1%E5%9E%8B%E8%88%87%E8%A8%88%E7%AE%97%E8%B3%87%E6%96%99/MachineLearningForInverseDynamics/PGNN_0801_CVsplit.ipynb#X43sZmlsZQ%3D%3D?line=8'>9</a>\u001b[0m model_loss, model_loss_record \u001b[39m=\u001b[39m train(tr_dataset, tr_idx, vd_idx, config, myseed, device)\n\u001b[0;32m     <a href='vscode-notebook-cell:/f%3A/NTHU%20Document/%E6%95%B8%E4%BD%8D%E8%B3%87%E6%96%99/%E7%95%A2%E6%A5%AD%E8%AB%96%E6%96%87%E8%B3%87%E6%96%99/%E6%A8%A1%E5%9E%8B%E8%88%87%E8%A8%88%E7%AE%97%E8%B3%87%E6%96%99/MachineLearningForInverseDynamics/PGNN_0801_CVsplit.ipynb#X43sZmlsZQ%3D%3D?line=9'>10</a>\u001b[0m model_loss_fold[\u001b[39m'\u001b[39m\u001b[39mfold\u001b[39m\u001b[39m{}\u001b[39;00m\u001b[39m'\u001b[39m\u001b[39m.\u001b[39mformat(fold\u001b[39m+\u001b[39m\u001b[39m1\u001b[39m)] \u001b[39m=\u001b[39m model_loss_record\n\u001b[0;32m     <a href='vscode-notebook-cell:/f%3A/NTHU%20Document/%E6%95%B8%E4%BD%8D%E8%B3%87%E6%96%99/%E7%95%A2%E6%A5%AD%E8%AB%96%E6%96%87%E8%B3%87%E6%96%99/%E6%A8%A1%E5%9E%8B%E8%88%87%E8%A8%88%E7%AE%97%E8%B3%87%E6%96%99/MachineLearningForInverseDynamics/PGNN_0801_CVsplit.ipynb#X43sZmlsZQ%3D%3D?line=10'>11</a>\u001b[0m avg_model_loss \u001b[39m+\u001b[39m\u001b[39m=\u001b[39m model_loss\n",
      "\u001b[1;32mf:\\NTHU Document\\數位資料\\畢業論文資料\\模型與計算資料\\MachineLearningForInverseDynamics\\PGNN_0801_CVsplit.ipynb Cell 33\u001b[0m in \u001b[0;36mtrain\u001b[1;34m(tr_dataset, tr_idx, vd_idx, config, seed, device)\u001b[0m\n\u001b[0;32m     <a href='vscode-notebook-cell:/f%3A/NTHU%20Document/%E6%95%B8%E4%BD%8D%E8%B3%87%E6%96%99/%E7%95%A2%E6%A5%AD%E8%AB%96%E6%96%87%E8%B3%87%E6%96%99/%E6%A8%A1%E5%9E%8B%E8%88%87%E8%A8%88%E7%AE%97%E8%B3%87%E6%96%99/MachineLearningForInverseDynamics/PGNN_0801_CVsplit.ipynb#X43sZmlsZQ%3D%3D?line=48'>49</a>\u001b[0m \u001b[39m# Stack x, y into device (either cpu or gpu) \u001b[39;00m\n\u001b[0;32m     <a href='vscode-notebook-cell:/f%3A/NTHU%20Document/%E6%95%B8%E4%BD%8D%E8%B3%87%E6%96%99/%E7%95%A2%E6%A5%AD%E8%AB%96%E6%96%87%E8%B3%87%E6%96%99/%E6%A8%A1%E5%9E%8B%E8%88%87%E8%A8%88%E7%AE%97%E8%B3%87%E6%96%99/MachineLearningForInverseDynamics/PGNN_0801_CVsplit.ipynb#X43sZmlsZQ%3D%3D?line=49'>50</a>\u001b[0m x, y \u001b[39m=\u001b[39m x\u001b[39m.\u001b[39mto(device), y\u001b[39m.\u001b[39mto(device)           \u001b[39m# The length of x, y are batch size\u001b[39;00m\n\u001b[1;32m---> <a href='vscode-notebook-cell:/f%3A/NTHU%20Document/%E6%95%B8%E4%BD%8D%E8%B3%87%E6%96%99/%E7%95%A2%E6%A5%AD%E8%AB%96%E6%96%87%E8%B3%87%E6%96%99/%E6%A8%A1%E5%9E%8B%E8%88%87%E8%A8%88%E7%AE%97%E8%B3%87%E6%96%99/MachineLearningForInverseDynamics/PGNN_0801_CVsplit.ipynb#X43sZmlsZQ%3D%3D?line=50'>51</a>\u001b[0m pred \u001b[39m=\u001b[39m model(x)\n\u001b[0;32m     <a href='vscode-notebook-cell:/f%3A/NTHU%20Document/%E6%95%B8%E4%BD%8D%E8%B3%87%E6%96%99/%E7%95%A2%E6%A5%AD%E8%AB%96%E6%96%87%E8%B3%87%E6%96%99/%E6%A8%A1%E5%9E%8B%E8%88%87%E8%A8%88%E7%AE%97%E8%B3%87%E6%96%99/MachineLearningForInverseDynamics/PGNN_0801_CVsplit.ipynb#X43sZmlsZQ%3D%3D?line=52'>53</a>\u001b[0m jtspace \u001b[39m=\u001b[39m hookF[\u001b[39m2\u001b[39m]\u001b[39m.\u001b[39moutput\n\u001b[0;32m     <a href='vscode-notebook-cell:/f%3A/NTHU%20Document/%E6%95%B8%E4%BD%8D%E8%B3%87%E6%96%99/%E7%95%A2%E6%A5%AD%E8%AB%96%E6%96%87%E8%B3%87%E6%96%99/%E6%A8%A1%E5%9E%8B%E8%88%87%E8%A8%88%E7%AE%97%E8%B3%87%E6%96%99/MachineLearningForInverseDynamics/PGNN_0801_CVsplit.ipynb#X43sZmlsZQ%3D%3D?line=54'>55</a>\u001b[0m tr_loss, tr_mse, tr_pen \u001b[39m=\u001b[39m criterion(pred, y, x, jtspace)            \u001b[39m# Calculate loss with each batch (Criterion within CLASS model)\u001b[39;00m\n",
      "File \u001b[1;32mc:\\Python\\lib\\site-packages\\torch\\nn\\modules\\module.py:1130\u001b[0m, in \u001b[0;36mModule._call_impl\u001b[1;34m(self, *input, **kwargs)\u001b[0m\n\u001b[0;32m   1126\u001b[0m \u001b[39m# If we don't have any hooks, we want to skip the rest of the logic in\u001b[39;00m\n\u001b[0;32m   1127\u001b[0m \u001b[39m# this function, and just call forward.\u001b[39;00m\n\u001b[0;32m   1128\u001b[0m \u001b[39mif\u001b[39;00m \u001b[39mnot\u001b[39;00m (\u001b[39mself\u001b[39m\u001b[39m.\u001b[39m_backward_hooks \u001b[39mor\u001b[39;00m \u001b[39mself\u001b[39m\u001b[39m.\u001b[39m_forward_hooks \u001b[39mor\u001b[39;00m \u001b[39mself\u001b[39m\u001b[39m.\u001b[39m_forward_pre_hooks \u001b[39mor\u001b[39;00m _global_backward_hooks\n\u001b[0;32m   1129\u001b[0m         \u001b[39mor\u001b[39;00m _global_forward_hooks \u001b[39mor\u001b[39;00m _global_forward_pre_hooks):\n\u001b[1;32m-> 1130\u001b[0m     \u001b[39mreturn\u001b[39;00m forward_call(\u001b[39m*\u001b[39m\u001b[39minput\u001b[39m, \u001b[39m*\u001b[39m\u001b[39m*\u001b[39mkwargs)\n\u001b[0;32m   1131\u001b[0m \u001b[39m# Do not call functions when jit is used\u001b[39;00m\n\u001b[0;32m   1132\u001b[0m full_backward_hooks, non_full_backward_hooks \u001b[39m=\u001b[39m [], []\n",
      "\u001b[1;32mf:\\NTHU Document\\數位資料\\畢業論文資料\\模型與計算資料\\MachineLearningForInverseDynamics\\PGNN_0801_CVsplit.ipynb Cell 33\u001b[0m in \u001b[0;36mDDNN.forward\u001b[1;34m(self, x)\u001b[0m\n\u001b[0;32m     <a href='vscode-notebook-cell:/f%3A/NTHU%20Document/%E6%95%B8%E4%BD%8D%E8%B3%87%E6%96%99/%E7%95%A2%E6%A5%AD%E8%AB%96%E6%96%87%E8%B3%87%E6%96%99/%E6%A8%A1%E5%9E%8B%E8%88%87%E8%A8%88%E7%AE%97%E8%B3%87%E6%96%99/MachineLearningForInverseDynamics/PGNN_0801_CVsplit.ipynb#X43sZmlsZQ%3D%3D?line=47'>48</a>\u001b[0m x \u001b[39m=\u001b[39m \u001b[39mself\u001b[39m\u001b[39m.\u001b[39ml5(x)\n\u001b[0;32m     <a href='vscode-notebook-cell:/f%3A/NTHU%20Document/%E6%95%B8%E4%BD%8D%E8%B3%87%E6%96%99/%E7%95%A2%E6%A5%AD%E8%AB%96%E6%96%87%E8%B3%87%E6%96%99/%E6%A8%A1%E5%9E%8B%E8%88%87%E8%A8%88%E7%AE%97%E8%B3%87%E6%96%99/MachineLearningForInverseDynamics/PGNN_0801_CVsplit.ipynb#X43sZmlsZQ%3D%3D?line=48'>49</a>\u001b[0m x \u001b[39m=\u001b[39m \u001b[39mself\u001b[39m\u001b[39m.\u001b[39mact5(x)\n\u001b[1;32m---> <a href='vscode-notebook-cell:/f%3A/NTHU%20Document/%E6%95%B8%E4%BD%8D%E8%B3%87%E6%96%99/%E7%95%A2%E6%A5%AD%E8%AB%96%E6%96%87%E8%B3%87%E6%96%99/%E6%A8%A1%E5%9E%8B%E8%88%87%E8%A8%88%E7%AE%97%E8%B3%87%E6%96%99/MachineLearningForInverseDynamics/PGNN_0801_CVsplit.ipynb#X43sZmlsZQ%3D%3D?line=49'>50</a>\u001b[0m x \u001b[39m=\u001b[39m \u001b[39mself\u001b[39;49m\u001b[39m.\u001b[39;49ml6(x)\n\u001b[0;32m     <a href='vscode-notebook-cell:/f%3A/NTHU%20Document/%E6%95%B8%E4%BD%8D%E8%B3%87%E6%96%99/%E7%95%A2%E6%A5%AD%E8%AB%96%E6%96%87%E8%B3%87%E6%96%99/%E6%A8%A1%E5%9E%8B%E8%88%87%E8%A8%88%E7%AE%97%E8%B3%87%E6%96%99/MachineLearningForInverseDynamics/PGNN_0801_CVsplit.ipynb#X43sZmlsZQ%3D%3D?line=51'>52</a>\u001b[0m \u001b[39mreturn\u001b[39;00m x\n",
      "File \u001b[1;32mc:\\Python\\lib\\site-packages\\torch\\nn\\modules\\module.py:1148\u001b[0m, in \u001b[0;36mModule._call_impl\u001b[1;34m(self, *input, **kwargs)\u001b[0m\n\u001b[0;32m   1145\u001b[0m     bw_hook \u001b[39m=\u001b[39m hooks\u001b[39m.\u001b[39mBackwardHook(\u001b[39mself\u001b[39m, full_backward_hooks)\n\u001b[0;32m   1146\u001b[0m     \u001b[39minput\u001b[39m \u001b[39m=\u001b[39m bw_hook\u001b[39m.\u001b[39msetup_input_hook(\u001b[39minput\u001b[39m)\n\u001b[1;32m-> 1148\u001b[0m result \u001b[39m=\u001b[39m forward_call(\u001b[39m*\u001b[39m\u001b[39minput\u001b[39m, \u001b[39m*\u001b[39m\u001b[39m*\u001b[39mkwargs)\n\u001b[0;32m   1149\u001b[0m \u001b[39mif\u001b[39;00m _global_forward_hooks \u001b[39mor\u001b[39;00m \u001b[39mself\u001b[39m\u001b[39m.\u001b[39m_forward_hooks:\n\u001b[0;32m   1150\u001b[0m     \u001b[39mfor\u001b[39;00m hook \u001b[39min\u001b[39;00m (\u001b[39m*\u001b[39m_global_forward_hooks\u001b[39m.\u001b[39mvalues(), \u001b[39m*\u001b[39m\u001b[39mself\u001b[39m\u001b[39m.\u001b[39m_forward_hooks\u001b[39m.\u001b[39mvalues()):\n",
      "File \u001b[1;32mc:\\Python\\lib\\site-packages\\torch\\nn\\modules\\linear.py:114\u001b[0m, in \u001b[0;36mLinear.forward\u001b[1;34m(self, input)\u001b[0m\n\u001b[0;32m    113\u001b[0m \u001b[39mdef\u001b[39;00m \u001b[39mforward\u001b[39m(\u001b[39mself\u001b[39m, \u001b[39minput\u001b[39m: Tensor) \u001b[39m-\u001b[39m\u001b[39m>\u001b[39m Tensor:\n\u001b[1;32m--> 114\u001b[0m     \u001b[39mreturn\u001b[39;00m F\u001b[39m.\u001b[39;49mlinear(\u001b[39minput\u001b[39;49m, \u001b[39mself\u001b[39;49m\u001b[39m.\u001b[39;49mweight, \u001b[39mself\u001b[39;49m\u001b[39m.\u001b[39;49mbias)\n",
      "\u001b[1;31mKeyboardInterrupt\u001b[0m: "
     ]
    }
   ],
   "source": [
    "model_loss_fold={'fold1':'', 'fold2':'', 'fold3':'', 'fold4':'', 'fold5':''}\n",
    "avg_model_loss = 0\n",
    "\n",
    "# Only runs fold 1\n",
    "for fold in np.arange(1):\n",
    "    print('Fold {:d}'.format(fold+1))\n",
    "    tr_idx = kfold_idx['fold{}_tr'.format(fold+1)]\n",
    "    vd_idx = kfold_idx['fold{}_vd'.format(fold+1)]\n",
    "    model_loss, model_loss_record = train(tr_dataset, tr_idx, vd_idx, config, myseed, device)\n",
    "    model_loss_fold['fold{}'.format(fold+1)] = model_loss_record\n",
    "    avg_model_loss += model_loss\n",
    "\n",
    "# avg_model_loss = avg_model_loss/5\n",
    "\n",
    "# print(avg_model_loss)"
   ]
  },
  {
   "cell_type": "markdown",
   "metadata": {},
   "source": [
    "### **Save records**"
   ]
  },
  {
   "cell_type": "code",
   "execution_count": null,
   "metadata": {},
   "outputs": [],
   "source": [
    "import pickle\n",
    "\n",
    "os.makedirs('records', exist_ok=True) \n",
    "\n",
    "record_path = 'records/record.pkl'\n",
    "f = open(record_path,'wb')\n",
    "pickle.dump(model_loss_fold, f)\n",
    "f.close()"
   ]
  },
  {
   "cell_type": "markdown",
   "metadata": {},
   "source": [
    "### **Plot Learning Curve**"
   ]
  },
  {
   "cell_type": "code",
   "execution_count": null,
   "metadata": {},
   "outputs": [
    {
     "data": {
      "image/png": "[encoded data removed]",
      "text/plain": [
       "<Figure size 432x288 with 1 Axes>"
      ]
     },
     "metadata": {
      "needs_background": "light"
     },
     "output_type": "display_data"
    }
   ],
   "source": [
    "def plot_learning_curve_kfold(loss_record, up_limit, type='loss', fold=1, title=''):\n",
    "    ''' Plot learning curve of your DNN (train & valid loss) '''\n",
    "    total_steps = len(loss_record['fold{}'.format(fold)]['tr_{}'.format(type)])\n",
    "    x_1 = range(total_steps)\n",
    "    x_2 = x_1[::len(loss_record['fold{}'.format(fold)]['tr_{}'.format(type)]) // len(loss_record['fold{}'.format(fold)]['vd_{}'.format(type)])]\n",
    "    figure(figsize=(6, 4))\n",
    "    plt.plot(x_1, loss_record['fold{}'.format(fold)]['tr_{}'.format(type)], c='tab:red', label='train_Fold{}'.format(fold))\n",
    "    plt.plot(x_2, loss_record['fold{}'.format(fold)]['vd_{}'.format(type)], c='tab:cyan', label='valid')\n",
    "    plt.ylim(0.0, up_limit)\n",
    "    plt.xlabel('Training steps')\n",
    "    plt.ylabel('{}'.format(type))\n",
    "    plt.title('Learning curve of {}'.format(title))\n",
    "    plt.legend()\n",
    "    plt.show()\n",
    "\n",
    "def plot_learning_curve(loss_record, title=''):\n",
    "    ''' Plot learning curve of your DNN (train & dev loss) '''\n",
    "    total_steps = len(loss_record['tr_loss'])\n",
    "    x_1 = range(total_steps)\n",
    "    x_2 = x_1[::len(loss_record['tr_loss']) // len(loss_record['vd_loss'])]\n",
    "    figure(figsize=(6, 4))\n",
    "    plt.plot(x_1, loss_record['tr_loss'], c='tab:red', label='train')\n",
    "    plt.plot(x_2, loss_record['vd_loss'], c='tab:cyan', label='dev')\n",
    "    plt.ylim(0.0, 10000.)\n",
    "    plt.xlabel('Training steps')\n",
    "    plt.ylabel('MSE loss')\n",
    "    plt.title('Learning curve of {}'.format(title))\n",
    "    plt.legend()\n",
    "    plt.show()\n",
    "    return x_1, x_2\n",
    "\n",
    "plot_learning_curve_kfold(model_loss_fold, 10000., type='mse', fold=1)\n",
    "\n"
   ]
  },
  {
   "cell_type": "code",
   "execution_count": null,
   "metadata": {},
   "outputs": [
    {
     "name": "stdout",
     "output_type": "stream",
     "text": [
      "Finished reading the Trajectory Dataset (10000 samples found, each dim = 9)\n",
      "0.9975172063660235 0.9974314620661802 0.9991801691984902\n"
     ]
    },
    {
     "data": {
      "image/png": "[encoded data removed]",
      "text/plain": [
       "<Figure size 360x360 with 1 Axes>"
      ]
     },
     "metadata": {
      "needs_background": "light"
     },
     "output_type": "display_data"
    },
    {
     "name": "stdout",
     "output_type": "stream",
     "text": [
      "total_loss : 669.888428, mse : 150.321765, pen : 519.566650\n"
     ]
    }
   ],
   "source": [
    "ts_path = os.path.abspath(\"./Resources/TestingData_PeriodicTraj_Single.xlsx\")\n",
    "ts_dataset = TrajDataset(ts_path)\n",
    "\n",
    "test_config = {'save_path' : 'models/model.pt'}\n",
    "\n",
    "\n",
    "model = DDNN(config['layers']).to(device)\n",
    "ckpt = torch.load(test_config['save_path'], map_location='cpu')  # Load your best model\n",
    "model.load_state_dict(ckpt)\n",
    "criterion = CustomLoss(mode='mse')\n",
    "\n",
    "\n",
    "def test(ts_dataset, model, criterion, device, lim=35., preds=None, targets=None):\n",
    "    ts_loader = DataLoader(ts_dataset, config['batch_size'], shuffle = False, \n",
    "    drop_last=False, num_workers=0, pin_memory=True)\n",
    "    sample_num = len(ts_dataset)\n",
    "    hookF = [Hook(layer[1]) for layer in list(model._modules.items())]\n",
    "\n",
    "    if preds is None or targets is None:\n",
    "        model.eval()\n",
    "        preds, targets, jtlayers = [], [], []\n",
    "        total_loss = 0\n",
    "        total_ts_mse = 0\n",
    "        total_ts_pen = 0\n",
    "        cnt = 0\n",
    "        for x, y in ts_loader:\n",
    "            x, y = x.to(device), y.to(device)\n",
    "            with torch.no_grad():\n",
    "                pred = model(x)\n",
    "                preds.append(pred.detach().cpu())\n",
    "                targets.append(y.detach().cpu())\n",
    "\n",
    "                jtlayer = hookF[2].output\n",
    "                jtlayers.append(jtlayer.detach().cpu())\n",
    "                ts_loss, ts_mse, ts_pen = criterion(pred, y, x, jtlayer)\n",
    "\n",
    "            cnt = cnt+1\n",
    "            total_loss = total_loss +  ts_mse.detach().cpu().item() * len(x) + ts_pen    # ( *len(x) means error**2)            \n",
    "            total_ts_mse = total_ts_mse + ts_mse.detach().cpu().item() * len(x)\n",
    "            total_ts_pen = total_ts_pen + ts_pen\n",
    "\n",
    "        total_loss = total_loss / len(ts_loader.dataset)            # Calculate validation loss with each epoch (Criterion within CLASS model)\n",
    "        total_ts_mse = total_ts_mse / len(ts_loader.dataset)\n",
    "        total_ts_pen = total_ts_pen / len(ts_loader.dataset)\n",
    "        preds = torch.cat(preds, 0).numpy().reshape((sample_num, 3))\n",
    "        targets = torch.cat(targets, 0).numpy().reshape((sample_num, 3))\n",
    "    return total_loss, total_ts_mse, total_ts_pen, preds, targets, jtlayers\n",
    "\n",
    "# figure(figsize=(5, 5))\n",
    "# total_steps = len(loss_record['train'])\n",
    "# x_1 = range(total_steps)\n",
    "# plt.scatter(targets, preds, c='r', alpha=0.5)\n",
    "# plt.plot([-0.2, lim], [-0.2, lim], c='b')\n",
    "# plt.xlim(-0.2, lim)\n",
    "# plt.ylim(-0.2, lim)\n",
    "# plt.xlabel('ground truth value')\n",
    "# plt.ylabel('predicted value')\n",
    "# plt.title('Ground Truth v.s. Prediction')\n",
    "# plt.show()\n",
    "\n",
    "from sklearn.metrics import r2_score\n",
    "\n",
    "\n",
    "ts_loss, ts_mse, ts_pen, pred, target, jtlayers = test(ts_dataset, model, criterion, device)\n",
    "\n",
    "ts_accuracy_1 = r2_score(pred[:, 0], target[:, 0])\n",
    "ts_accuracy_2 = r2_score(pred[:, 1], target[:, 1])\n",
    "ts_accuracy_3 = r2_score(pred[:, 2], target[:, 2])\n",
    "\n",
    "print(ts_accuracy_1, ts_accuracy_2, ts_accuracy_3)\n",
    "\n",
    "\n",
    "\n",
    "def plot_pred(pred, target, model, device, index=0):\n",
    "    figure(figsize=(5, 5))\n",
    "    total_steps = len(pred)\n",
    "    x_1 = range(total_steps)\n",
    "    plt.plot(x_1, pred[:, index], c='tab:red', label='prediction')\n",
    "    plt.plot(x_1, target[:, index], c='tab:cyan', label='ground-truth')\n",
    "    # plt.xlim(-0.2, lim)\n",
    "    # plt.ylim(-0.2, lim)\n",
    "    plt.xlabel('ground truth value')\n",
    "    plt.ylabel('predicted value')\n",
    "    plt.title('Force{} Ground Truth v.s. Prediction'.format(index+1))\n",
    "    plt.show()\n",
    "\n",
    "plot_pred(pred, target, model, device, index=0)\n",
    "\n",
    "print('total_loss : {:4f}, mse : {:4f}, pen : {:4f}'.format(ts_loss.item(), ts_mse, ts_pen.item()))\n",
    "\n",
    "\n",
    "\n",
    "\n"
   ]
  },
  {
   "cell_type": "code",
   "execution_count": null,
   "metadata": {},
   "outputs": [
    {
     "data": {
      "image/png": "[encoded data removed]",
      "text/plain": [
       "<Figure size 360x360 with 1 Axes>"
      ]
     },
     "metadata": {
      "needs_background": "light"
     },
     "output_type": "display_data"
    }
   ],
   "source": [
    "plot_pred(pred, target, model, device, index=1)"
   ]
  },
  {
   "cell_type": "code",
   "execution_count": null,
   "metadata": {},
   "outputs": [
    {
     "data": {
      "image/png": "[encoded data removed]",
      "text/plain": [
       "<Figure size 360x360 with 1 Axes>"
      ]
     },
     "metadata": {
      "needs_background": "light"
     },
     "output_type": "display_data"
    }
   ],
   "source": [
    "plot_pred(pred, target, model, device, index=2)"
   ]
  },
  {
   "cell_type": "markdown",
   "metadata": {},
   "source": [
    "### **Convert jupyter notebook file to python file**\n",
    "Uncomment the script below to convert jupyter notebook file (.ipynb) to python file (.py)"
   ]
  },
  {
   "cell_type": "code",
   "execution_count": 2,
   "metadata": {},
   "outputs": [
    {
     "name": "stderr",
     "output_type": "stream",
     "text": [
      "usage: jupyter [-h] [--version] [--config-dir] [--data-dir] [--runtime-dir]\n",
      "               [--paths] [--json] [--debug]\n",
      "               [subcommand]\n",
      "\n",
      "Jupyter: Interactive Computing\n",
      "\n",
      "positional arguments:\n",
      "  subcommand     the subcommand to launch\n",
      "\n",
      "optional arguments:\n",
      "  -h, --help     show this help message and exit\n",
      "  --version      show the versions of core jupyter packages and exit\n",
      "  --config-dir   show Jupyter config dir\n",
      "  --data-dir     show Jupyter data dir\n",
      "  --runtime-dir  show Jupyter runtime dir\n",
      "  --paths        show all Jupyter paths. Add --json for machine-readable\n",
      "                 format.\n",
      "  --json         output paths as machine-readable json\n",
      "  --debug        output debug information about paths\n",
      "\n",
      "Available subcommands: kernel kernelspec migrate run troubleshoot\n",
      "\n",
      "Jupyter command `jupyter-nbconvert` not found.\n"
     ]
    }
   ],
   "source": [
    "# !jupyter nbconvert --to script ML_0801.ipynb "
   ]
  }
 ],
 "metadata": {
  "kernelspec": {
   "display_name": "Python 3.9.13 64-bit",
   "language": "python",
   "name": "python3"
  },
  "language_info": {
   "codemirror_mode": {
    "name": "ipython",
    "version": 3
   },
   "file_extension": ".py",
   "mimetype": "text/x-python",
   "name": "python",
   "nbconvert_exporter": "python",
   "pygments_lexer": "ipython3",
   "version": "3.9.13"
  },
  "orig_nbformat": 4,
  "vscode": {
   "interpreter": {
    "hash": "52634da84371cba311ea128a5ea7cdc41ff074b781779e754b270ff9f8153cee"
   }
  }
 },
 "nbformat": 4,
 "nbformat_minor": 2
}
