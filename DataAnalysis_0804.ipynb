{
 "cells": [
  {
   "cell_type": "markdown",
   "metadata": {},
   "source": [
    "## **Functions and Classes**"
   ]
  },
  {
   "cell_type": "markdown",
   "metadata": {},
   "source": [
    "### **Packages and Utilities**"
   ]
  },
  {
   "cell_type": "markdown",
   "metadata": {},
   "source": [
    "#### **Import Some Packages**"
   ]
  },
  {
   "cell_type": "code",
   "execution_count": 1,
   "metadata": {},
   "outputs": [],
   "source": [
    "# PyTorch\n",
    "import torch\n",
    "import torch.nn as nn\n",
    "import torch.optim as optim\n",
    "from torch.utils.data import Dataset, DataLoader, SubsetRandomSampler\n",
    "from torchmetrics import R2Score\n",
    "\n",
    "# Data process\n",
    "import numpy as np\n",
    "import pandas as pd\n",
    "import math\n",
    "import csv\n",
    "import os\n",
    "from sklearn.preprocessing import StandardScaler, MinMaxScaler\n",
    "from sklearn.model_selection import KFold\n",
    "\n",
    "\n",
    "# Plot figure\n",
    "import matplotlib.pyplot as plt\n",
    "from matplotlib.pyplot import figure"
   ]
  },
  {
   "cell_type": "markdown",
   "metadata": {},
   "source": [
    "#### **Reproducibility**"
   ]
  },
  {
   "cell_type": "code",
   "execution_count": 2,
   "metadata": {},
   "outputs": [],
   "source": [
    "myseed = 870529  # set a random seed for reproducibility\n",
    "torch.backends.cudnn.deterministic = True\n",
    "torch.backends.cudnn.benchmark = False\n",
    "np.random.seed(myseed)\n",
    "torch.manual_seed(myseed)\n",
    "if torch.cuda.is_available():\n",
    "    torch.cuda.manual_seed_all(myseed)"
   ]
  },
  {
   "cell_type": "markdown",
   "metadata": {},
   "source": [
    "#### **Switch to GPU if available**"
   ]
  },
  {
   "cell_type": "code",
   "execution_count": 3,
   "metadata": {},
   "outputs": [],
   "source": [
    "def get_device():\n",
    "    ''' Get device (if GPU is available, use GPU) '''\n",
    "    return 'cuda' if torch.cuda.is_available() else 'cpu'"
   ]
  },
  {
   "cell_type": "markdown",
   "metadata": {},
   "source": [
    "### **Dataset**\n",
    "\n",
    "We have two kinds of datasets:\n",
    "* `train`: for training and validation\n",
    "* `test`: for testing \n",
    "\n",
    "The `TrajDataset` below does:\n",
    "* read `.xlsx` files\n",
    "* extract features\n",
    "* normalize features\n"
   ]
  },
  {
   "cell_type": "code",
   "execution_count": 4,
   "metadata": {},
   "outputs": [],
   "source": [
    "class TrajDataset(Dataset):\n",
    "    def __init__(self, path, mode='test'):\n",
    "\n",
    "        # Read data to dataframe\n",
    "        df = pd.read_excel(path)\n",
    "\n",
    "        # Split data to feature and target & Transfer to numpy \n",
    "        feature_np = df.iloc[:, 1:10].to_numpy()\n",
    "        target_np = df.iloc[:, 10:13].to_numpy()\n",
    "        \n",
    "        # Transfer data to tensor\n",
    "        self.feature = torch.Tensor(feature_np)\n",
    "        self.target = torch.Tensor(target_np)\n",
    "\n",
    "        # Transfer feature data to (0,1) -> MinMaxScalar\n",
    "        self.feature[:, 1:4] = (self.feature[:, 1:4] + 150) / 300\n",
    "        self.feature[:, 4:7] = (self.feature[:, 4:7] + 830) / 1660      \n",
    "        self.feature[:, 7:10] = (self.feature[:, 7:10] + 980) / 1960\n",
    "\n",
    "        # Get sample number of data\n",
    "        self.dim = self.feature.shape[1]\n",
    "\n",
    "        print('Finished reading the Trajectory Dataset ({} samples found, each dim = {})'\n",
    "              .format(len(self.feature), self.dim))\n",
    "\n",
    "    def __getitem__(self, index) :\n",
    "\n",
    "\n",
    "        return self.feature[index], self.target[index]\n",
    "\n",
    "    def __len__(self) :\n",
    "\n",
    "        return len(self.feature)"
   ]
  },
  {
   "cell_type": "markdown",
   "metadata": {},
   "source": [
    "### **Deep Neural Network**\n",
    "\n",
    "`NeuralNet` is an `nn.Module` designed for regression.\n",
    "The DNN consists of 7 fully-connected layers with ReLU activation.\n",
    "This module also included a function `cal_loss` for calculating loss."
   ]
  },
  {
   "cell_type": "code",
   "execution_count": 5,
   "metadata": {},
   "outputs": [],
   "source": [
    "class DDNN(nn.Module) : \n",
    "    def __init__(self, layers):\n",
    "        super(DDNN, self).__init__()\n",
    "\n",
    "        input_dim = 9\n",
    "        output_dim = 3\n",
    "\n",
    "        h1, h2, h3 = layers[1], layers[2], layers[3]\n",
    "        h4, h5  = layers[4], layers[5]\n",
    "\n",
    "        # Layer Strucutre\n",
    "        self.l1 = nn.Linear(input_dim, h1)\n",
    "        self.l2 = nn.Linear(h1, h2)\n",
    "        self.l3 = nn.Linear(h2, h3)\n",
    "        self.l4 = nn.Linear(h3, h4)\n",
    "        self.l5 = nn.Linear(h4, h5)\n",
    "        self.l6 = nn.Linear(h5, output_dim)\n",
    "\n",
    "\n",
    "        # Define Activation Function \n",
    "        # Use Softplus for smoother result (compared with ReLU)\n",
    "        self.act1 = nn.Softplus()\n",
    "        self.act2 = nn.Softplus()\n",
    "        self.act3 = nn.Softplus()\n",
    "        self.act4 = nn.Softplus()\n",
    "        self.act5 = nn.Softplus()\n",
    "\n",
    "\n",
    "    def forward(self, x):\n",
    "        \n",
    "        x = self.l1(x)\n",
    "        x = self.act1(x)\n",
    "        x = self.l2(x)\n",
    "        x = self.act2(x)\n",
    "        x = self.l3(x)\n",
    "        x = self.act3(x)\n",
    "        x = self.l4(x)\n",
    "        x = self.act4(x)\n",
    "        x = self.l5(x)\n",
    "        x = self.act5(x)\n",
    "        x = self.l6(x)\n",
    "\n",
    "        return x\n",
    "    \n"
   ]
  },
  {
   "cell_type": "markdown",
   "metadata": {},
   "source": [
    "#### **Get hidden layer value**"
   ]
  },
  {
   "cell_type": "code",
   "execution_count": 6,
   "metadata": {},
   "outputs": [],
   "source": [
    "class Hook():\n",
    "    def __init__(self, module, backward=False):\n",
    "        if backward==False:\n",
    "            self.hook = module.register_forward_hook(self.hook_fn)\n",
    "        else:\n",
    "            self.hook = module.register_backward_hook(self.hook_fn)\n",
    "    def hook_fn(self, module, input, output):\n",
    "        self.input = input\n",
    "        self.output = output\n",
    "    def close(self):\n",
    "        self.hook.remove()"
   ]
  },
  {
   "cell_type": "markdown",
   "metadata": {},
   "source": [
    "#### **Inverse Dynamics**"
   ]
  },
  {
   "cell_type": "code",
   "execution_count": 7,
   "metadata": {},
   "outputs": [],
   "source": [
    "def InvDyn(tk_space):\n",
    "\n",
    "    samples = tk_space.shape[0]    \n",
    "    # Parameters\n",
    "    unit = 1000\n",
    "    L_init = (518.067753315)/unit\n",
    "    D = (450 - 160)/unit\n",
    "    Norm_Z = 429.295/unit\n",
    "\n",
    "    # Task space data\n",
    "    x_raw, y_raw, z_raw = tk_space[:, 0], tk_space[:, 1], tk_space[: , 2]\n",
    "    x_d_raw, y_d_raw, z_d_raw = tk_space[:, 3], tk_space[:, 4], tk_space[: , 5]\n",
    "    x_dd_raw, y_dd_raw, z_dd_raw = tk_space[:, 6], tk_space[:, 7], tk_space[:, 8]\n",
    "\n",
    "\n",
    "    x, y, z = (300*x_raw-150)/unit, (300*y_raw-150)/unit, (300*z_raw-150)/unit\n",
    "    x_d, y_d, z_d = (1660*x_d_raw-830)/unit, (1660*y_d_raw-830)/unit, (1660*z_d_raw-830)/unit\n",
    "    x_dd, y_dd, z_dd = (1960 * x_dd_raw - 980)/unit, (1960 * y_dd_raw - 980)/unit, (1960 * z_dd_raw - 980)/unit\n",
    "\n",
    "\n",
    "    L1 = torch.sqrt( x**2 + (y-D)**2 + (z-Norm_Z)**2 ) \n",
    "    L2 = torch.sqrt( (x + math.sqrt(3) * D / 2) **2 + ( y+D/2 )**2 + (z-Norm_Z)**2 ) \n",
    "    L3 = torch.sqrt( (x - math.sqrt(3) * D / 2) **2 + ( y+D/2 )**2 + (z-Norm_Z)**2 ) \n",
    "    \n",
    "    L1_d = x / L1 * x_d + ( y - D ) / L1 * y_d + ( z - Norm_Z ) / L1 * z_d  \n",
    "    L2_d = (x + math.sqrt(3) * D / 2 ) / L2 * x_d + ( y + D / 2 ) / L2 * y_d + ( z - Norm_Z ) / L2 * z_d\n",
    "    L3_d = (x - math.sqrt(3) * D / 2 ) / L3 * x_d + ( y + D / 2 ) / L3 * y_d + ( z - Norm_Z ) / L3 * z_d \n",
    "\n",
    "    L1_dd =  x / L1 * (x_dd - x_d * L1_d/L1) + x_d**2 / L1 + \\\n",
    "        ( y - D ) * (y_dd - y_d * L1_d / L1) + y_d**2 / L1 + \\\n",
    "        ( z - Norm_Z ) * (z_dd - z_d * L1_d / L1) + z_d**2 / L1 \n",
    "    L2_dd = (x + math.sqrt(3) * D / 2 ) / L2 * (x_dd - x_d * L2_d / L2) + x_d**2 / L2 + \\\n",
    "        (y + D / 2) / L2 * (y_dd - y_d * L2_d / L2) + y_d**2 / L2 + \\\n",
    "        ( z - Norm_Z ) / L2 * (z_dd - z_d * L2_d / L2) + z_d**2 / L2\n",
    "    L3_dd = (x - math.sqrt(3) * D / 2 ) / L3 * (x_dd - x_d * L3_d / L3) + x_d**2 / L3 + \\\n",
    "        (y + D / 2) / L3 * (y_dd - y_d * L3_d / L3) + y_d**2 / L3 + \\\n",
    "        ( z - Norm_Z ) / L3 * (z_dd - z_d * L3_d / L3) + z_d**2 / L3\n",
    "\n",
    "    L1, L2, L3 =  torch.reshape(L1, (samples, -1)), torch.reshape(L2, (samples, -1)), torch.reshape(L3, (samples, -1))  \n",
    "    L1_d, L2_d, L3_d =  torch.reshape(L1_d, (samples, -1)), torch.reshape(L2_d, (samples, -1)), torch.reshape(L3_d, (samples, -1))\n",
    "    L1_dd, L2_dd, L3_dd =  torch.reshape(L1_dd, (samples, -1)), torch.reshape(L2_dd, (samples, -1)), torch.reshape(L3_dd, (samples, -1)) \n",
    "            \n",
    "    jt_space = torch.cat((L1, L2, L3, L1_d, L2_d, L3_d, L1_dd, L2_dd, L3_dd),1)\n",
    "    \n",
    "    return jt_space"
   ]
  },
  {
   "cell_type": "markdown",
   "metadata": {},
   "source": [
    "#### **Custom Loss**"
   ]
  },
  {
   "cell_type": "code",
   "execution_count": 8,
   "metadata": {},
   "outputs": [],
   "source": [
    "class CustomLoss(nn.Module):\n",
    "    def __init__(self, mode='mse'):\n",
    "        super(CustomLoss, self).__init__()\n",
    "        self.mode = mode\n",
    "\n",
    "    def forward(self, output, target, tk_space, jt_space):\n",
    "\n",
    "        if self.mode == 'phys1':\n",
    "\n",
    "            jt_target = InvDyn(tk_space) \n",
    "\n",
    "            mse_loss = torch.mean((output-target)**2)\n",
    "\n",
    "            pen_loss = torch.mean((jt_space-jt_target)**2)\n",
    "\n",
    "            penalty = 10**(2)\n",
    "\n",
    "            total_loss = mse_loss + penalty * pen_loss\n",
    "\n",
    "            return total_loss, mse_loss, penalty * pen_loss\n",
    "\n",
    "        elif self.mode == 'phys2':\n",
    "\n",
    "            # Parameters\n",
    "            L_init = 518.067753315/1000\n",
    "            D = (450 - 160)/1000\n",
    "            Norm_Z = 429.295/1000\n",
    "            # Task space data\n",
    "            x_raw, y_raw, z_raw = tk_space[:, 0], tk_space[:, 1], tk_space[: , 2]\n",
    "            x_d_raw, y_d_raw, z_d_raw = tk_space[:, 3], tk_space[:, 4], tk_space[: , 5]\n",
    "            x_dd_raw, y_dd_raw, z_dd_raw = tk_space[:, 6], tk_space[:, 7], tk_space[:, 8]\n",
    "\n",
    "            L1_pred, L2_pred, L3_pred = jt_space[:, 0], jt_space[:, 1], jt_space[: , 2]\n",
    "            L1_d_pred, L2_d_pred, L3_d_pred = jt_space[:, 3], jt_space[:, 4], jt_space[: , 5]\n",
    "            L1_dd_pred, L2_dd_pred, L3_dd_pred = jt_space[:, 6], jt_space[:, 7], jt_space[:, 8]\n",
    "\n",
    "            x, y, z = (300*x_raw-150)/100, (300*y_raw-150)/100, (300*z_raw-150)/100\n",
    "            x_d, y_d, z_d = (1660*x_d_raw-830)/100, (1660*y_d_raw-830)/100, (1660*z_d_raw-830)/100\n",
    "            x_dd, y_dd, z_dd = (1960 * x_dd_raw - 980)/100, (1960 * y_dd_raw - 980)/100, (1960 * z_dd_raw - 980)/100\n",
    "\n",
    "            L1_target = torch.sqrt( x**2 + (y-D)**2 + (z-Norm_Z)**2 ) \n",
    "            L2_target = torch.sqrt( (x + math.sqrt(3) * D / 2) **2 + ( y+D/2 )**2 + (z-Norm_Z)**2 ) \n",
    "            L3_target = torch.sqrt( (x - math.sqrt(3) * D / 2) **2 + ( y+D/2 )**2 + (z-Norm_Z)**2 ) \n",
    "            \n",
    "            L1_d_target = x / L1_target * x_d + ( y - D ) / L1_target * y_d + ( z - Norm_Z ) / L1_target * z_d  \n",
    "            L2_d_target = (x + math.sqrt(3) * D / 2 ) / L2_target * x_d + ( y + D / 2 ) / L2_target * y_d + ( z - Norm_Z ) / L2_target * z_d\n",
    "            L3_d_target = (x - math.sqrt(3) * D / 2 ) / L3_target * x_d + ( y + D / 2 ) / L3_target * y_d + ( z - Norm_Z ) / L3_target * z_d \n",
    "\n",
    "            L1_dd_target =  x / L1_target * (x_dd - x_d * L1_d_target/L1_target) + x_d**2 / L1_target + \\\n",
    "                ( y - D ) * (y_dd - y_d * L1_d_target / L1_target) + y_d**2 / L1_target + \\\n",
    "                ( z - Norm_Z ) * (z_dd - z_d * L1_d_target / L1_target) + z_d**2 / L1_target\n",
    "            L2_dd_target = (x + math.sqrt(3) * D / 2 ) / L2_target * (x_dd - x_d * L2_d_target / L2_target) + x_d**2 / L2_target + \\\n",
    "                (y + D / 2) / L2_target * (y_dd - y_d * L2_d_target / L2_target) + y_d**2 / L2_target + \\\n",
    "                ( z - Norm_Z ) / L2_target * (z_dd - z_d * L2_d_target / L2_target) + z_d**2 / L2_target\n",
    "            L3_dd_target = (x - math.sqrt(3) * D / 2 ) / L3_target * (x_dd - x_d * L3_d_target / L3_target) + x_d**2 / L3_target + \\\n",
    "                (y + D / 2) / L3_target * (y_dd - y_d * L3_d_target / L3_target) + y_d**2 / L3_target + \\\n",
    "                ( z - Norm_Z ) / L3_target * (z_dd - z_d * L3_d_target / L3_target) + z_d**2 / L3_target\n",
    "\n",
    "\n",
    "            pos_target, pos_pred = torch.stack((L1_target, L2_target, L3_target), -1), torch.stack((L1_pred, L2_pred, L3_pred), -1)\n",
    "            vel_target, vel_pred = torch.stack((L1_d_target, L2_d_target, L3_d_target), -1), torch.stack((L1_d_pred, L2_d_pred, L3_d_pred), -1) \n",
    "            acc_target, acc_pred = torch.stack((L1_dd_target, L2_dd_target, L3_dd_target), -1), torch.stack((L1_dd_pred, L2_dd_pred, L3_dd_pred), -1) \n",
    "\n",
    "            mse_loss = torch.mean((output-target)**2)\n",
    "            pos_loss = torch.mean((pos_pred-pos_target)**2)\n",
    "            vel_loss = torch.mean((vel_pred-vel_target)**2)\n",
    "            acc_loss = torch.mean((acc_pred-acc_target)**2)\n",
    "\n",
    "            pos_pen = 1\n",
    "            vel_pen = 1\n",
    "            acc_pen = 1\n",
    "\n",
    "            pen_loss = pos_loss + vel_loss + acc_loss\n",
    "\n",
    "            total_loss = mse_loss + pos_pen * pos_loss + vel_pen * vel_loss + acc_pen * acc_loss\n",
    "\n",
    "            return total_loss, mse_loss, pen_loss\n",
    "        \n",
    "        else :\n",
    "\n",
    "            jt_target = InvDyn(tk_space) \n",
    "\n",
    "            mse_loss = torch.mean((output-target)**2)\n",
    "\n",
    "            pen_loss = torch.mean((jt_space-jt_target)**2)\n",
    "\n",
    "            penalty = 0\n",
    "\n",
    "            total_loss = mse_loss + penalty * pen_loss\n",
    "\n",
    "            return total_loss, mse_loss, pen_loss\n",
    "\n",
    "       "
   ]
  },
  {
   "cell_type": "markdown",
   "metadata": {},
   "source": [
    "### **Train/Dev/Test**\n",
    "\n",
    "We have three kinds of dataloaders:\n",
    "* `train`: for training\n",
    "* `valid`: for validation\n",
    "* `test`: for testing "
   ]
  },
  {
   "cell_type": "markdown",
   "metadata": {},
   "source": [
    "#### **Hyper-parameters Setup**\n",
    "\n",
    "`config` contains hyper-parameters for training and the path to save your model."
   ]
  },
  {
   "cell_type": "code",
   "execution_count": 9,
   "metadata": {},
   "outputs": [],
   "source": [
    "device = get_device()\n",
    "os.makedirs('models', exist_ok=True) \n",
    "\n",
    "config = {\n",
    "    'n_epochs': 50,                    # maximum number of epochs\n",
    "    'batch_size': 16,                   # mini-batch size for dataloader\n",
    "    'optimizer': 'Adam',                # optimization algorithm (optimizer in torch.optim)\n",
    "    'optim_hparas': {                   # hyper-parameters for the optimizer (depends on which optimizer you are using)\n",
    "        'lr': 0.0005433177089293607                     # learning rate of Adam\n",
    "    },\n",
    "    'layers': np.array([9, 189, 119, 9, 53, 85, 3], dtype='int64'),    # layers of NN architecture\n",
    "    'early_stop': 200,                  # early stopping epochs (the number epochs since your model's last improvement)\n",
    "    'save_path': 'models/model.pt'      # your model will be saved here\n",
    "}"
   ]
  },
  {
   "cell_type": "markdown",
   "metadata": {},
   "source": [
    "### **Read Records**"
   ]
  },
  {
   "cell_type": "code",
   "execution_count": 10,
   "metadata": {},
   "outputs": [],
   "source": [
    "import pickle\n",
    "\n",
    "record_path = 'records/record_DDNN.pkl'\n",
    "f = open(record_path, 'rb')\n",
    "DDNN_noisefree = pickle.load(f)\n",
    "\n",
    "record_path = 'records/record_PGNN.pkl'\n",
    "f = open(record_path, 'rb')\n",
    "PGNN_noisefree = pickle.load(f)\n",
    "\n",
    "record_path = 'records/record_ReLU_DDNN.pkl'\n",
    "f = open(record_path, 'rb')\n",
    "ReLU_DDNN_noisefree = pickle.load(f)\n",
    "\n",
    "record_path = 'records/record_ReLU_PGNN.pkl'\n",
    "f = open(record_path, 'rb')\n",
    "ReLU_PGNN_noisefree = pickle.load(f)\n",
    "\n",
    "record_path = 'records/record_DDNN_noised.pkl'\n",
    "f = open(record_path, 'rb')\n",
    "DDNN_noise = pickle.load(f)\n",
    "\n",
    "record_path = 'records/record_PGNN_noised.pkl'\n",
    "f = open(record_path, 'rb')\n",
    "PGNN_noise = pickle.load(f)\n",
    "\n",
    "record_path = 'records/record_DDNN_half.pkl'\n",
    "f = open(record_path, 'rb')\n",
    "DDNN_half = pickle.load(f)\n",
    "\n",
    "record_path = 'records/record_PGNN_half.pkl'\n",
    "f = open(record_path, 'rb')\n",
    "PGNN_half = pickle.load(f)\n",
    "\n",
    "record_path = 'records/record_PGNN_0_1e-3_1.pkl'\n",
    "f = open(record_path, 'rb')\n",
    "PGNN_0_1e_3 = pickle.load(f)\n",
    "\n",
    "record_path = 'records/record_PGNN_1_1e-3_1.pkl'\n",
    "f = open(record_path, 'rb')\n",
    "PGNN_1_1e_3 = pickle.load(f)\n",
    "\n",
    "record_path = 'records/record_PGNN_10_1e-3_1.pkl'\n",
    "f = open(record_path, 'rb')\n",
    "PGNN_10_1e_3 = pickle.load(f)\n",
    "\n",
    "record_path = 'records/record_PGNN_100_1e-3_1.pkl'\n",
    "f = open(record_path, 'rb')\n",
    "PGNN_100_1e_3 = pickle.load(f)\n",
    "\n",
    "record_path = 'records/record_PGNN_1000_1e-3_1.pkl'\n",
    "f = open(record_path, 'rb')\n",
    "PGNN_1000_1e_3 = pickle.load(f)\n",
    "\n",
    "record_path = 'records/record_PGNN_10000_1e-3_1.pkl'\n",
    "f = open(record_path, 'rb')\n",
    "PGNN_10000_1e_3 = pickle.load(f)\n"
   ]
  },
  {
   "cell_type": "markdown",
   "metadata": {},
   "source": [
    "### **Plot Learning Curve**"
   ]
  },
  {
   "cell_type": "code",
   "execution_count": 12,
   "metadata": {},
   "outputs": [
    {
     "data": {
      "image/png": "[encoded data removed]",
      "text/plain": [
       "<Figure size 432x288 with 1 Axes>"
      ]
     },
     "metadata": {
      "needs_background": "light"
     },
     "output_type": "display_data"
    }
   ],
   "source": [
    "total_steps = len(PGNN_noisefree['fold1']['tr_mse'])\n",
    "x_1 = range(total_steps)\n",
    "x_2 = x_1[::len(PGNN_noisefree['fold1']['tr_mse']) // len(PGNN_noisefree['fold1']['vd_mse'])]\n",
    "\n",
    "up_limit=1000.\n",
    "\n",
    "figure(figsize=(6, 4))\n",
    "\n",
    "\n",
    "\n",
    "plt.plot(x_2, DDNN_noisefree['fold1']['vd_mse'], c='tab:red', label='Unc. Noise free')\n",
    "plt.plot(x_2, PGNN_noisefree['fold1']['vd_mse'], c='tab:green', label='Con. Noise free')\n",
    "\n",
    "# plt.plot(x_2, DDNN_noise['fold1']['vd_mse'], c='tab:blue', label='Unc. noise')\n",
    "# plt.plot(x_2, PGNN_noise['fold1']['vd_mse'], c='tab:cyan', label='Con. noise')\n",
    "\n",
    "\n",
    "plt.ylim(0.0, up_limit)\n",
    "plt.xlabel('Iterations')\n",
    "plt.ylabel('MSE loss (Newton^2)')\n",
    "plt.title('Learning curve Comparison')\n",
    "plt.legend()\n",
    "plt.show()\n"
   ]
  },
  {
   "cell_type": "code",
   "execution_count": 13,
   "metadata": {},
   "outputs": [
    {
     "data": {
      "image/png": "[encoded data removed]",
      "text/plain": [
       "<Figure size 432x288 with 1 Axes>"
      ]
     },
     "metadata": {
      "needs_background": "light"
     },
     "output_type": "display_data"
    }
   ],
   "source": [
    "up_limit=10.\n",
    "figure(figsize=(6, 4))\n",
    "\n",
    "\n",
    "plt.plot(x_2, PGNN_noisefree['fold1']['vd_pen'], c='tab:green', label='Con. Noise free')\n",
    "\n",
    "plt.ylim(0.0, up_limit)\n",
    "plt.xlabel('Iterations')\n",
    "plt.ylabel('Penalty loss')\n",
    "plt.title('Learning curve of Penalty function')\n",
    "plt.legend()\n",
    "plt.show()\n"
   ]
  },
  {
   "cell_type": "markdown",
   "metadata": {},
   "source": [
    "### **Testing**"
   ]
  },
  {
   "cell_type": "code",
   "execution_count": null,
   "metadata": {},
   "outputs": [],
   "source": [
    "def test(ts_dataset, model, criterion, device, lim=35., preds=None, targets=None):\n",
    "    ts_loader = DataLoader(ts_dataset, config['batch_size'], shuffle = False, \n",
    "    drop_last=False, num_workers=0, pin_memory=True)\n",
    "    sample_num = len(ts_dataset)\n",
    "    hookF = [Hook(layer[1]) for layer in list(model._modules.items())]\n",
    "\n",
    "    if preds is None or targets is None:\n",
    "        model.eval()\n",
    "        preds, targets, jtlayers = [], [], []\n",
    "        total_loss = 0\n",
    "        total_ts_mse = 0\n",
    "        total_ts_pen = 0\n",
    "        cnt = 0\n",
    "        for x, y in ts_loader:\n",
    "            x, y = x.to(device), y.to(device)\n",
    "            with torch.no_grad():\n",
    "                pred = model(x)\n",
    "                preds.append(pred.detach().cpu())\n",
    "                targets.append(y.detach().cpu())\n",
    "\n",
    "                jtlayer = hookF[2].output\n",
    "                jtlayers.append(jtlayer.detach().cpu())\n",
    "                ts_loss, ts_mse, ts_pen = criterion(pred, y, x, jtlayer)\n",
    "\n",
    "            cnt = cnt+1\n",
    "            total_loss = total_loss +  ts_mse.detach().cpu().item() * len(x) + ts_pen    # ( *len(x) means error**2)            \n",
    "            total_ts_mse = total_ts_mse + ts_mse.detach().cpu().item() * len(x)\n",
    "            total_ts_pen = total_ts_pen + ts_pen\n",
    "\n",
    "        total_loss = total_loss / len(ts_loader.dataset)            # Calculate validation loss with each epoch (Criterion within CLASS model)\n",
    "        total_ts_mse = total_ts_mse / len(ts_loader.dataset)\n",
    "        total_ts_pen = total_ts_pen / len(ts_loader.dataset)\n",
    "        preds = torch.cat(preds, 0).numpy().reshape((sample_num, 3))\n",
    "        targets = torch.cat(targets, 0).numpy().reshape((sample_num, 3))\n",
    "        jtlayers = torch.cat(jtlayers, 0).numpy().reshape((sample_num, 9))\n",
    "    return total_loss, total_ts_mse, total_ts_pen, preds, targets, jtlayers"
   ]
  },
  {
   "cell_type": "markdown",
   "metadata": {},
   "source": [
    "### **Testing with trained NN**"
   ]
  },
  {
   "cell_type": "code",
   "execution_count": 13,
   "metadata": {},
   "outputs": [
    {
     "name": "stdout",
     "output_type": "stream",
     "text": [
      "Finished reading the Trajectory Dataset (10000 samples found, each dim = 9)\n"
     ]
    },
    {
     "name": "stderr",
     "output_type": "stream",
     "text": [
      "C:\\Users\\Wilson Chen\\AppData\\Local\\Temp\\ipykernel_18228\\4245920301.py:60: DeprecationWarning: Call to deprecated function remove_sheet (Use wb.remove(worksheet) or del wb[sheetname]).\n",
      "  wb.remove_sheet(wb.active)\n"
     ]
    },
    {
     "name": "stdout",
     "output_type": "stream",
     "text": [
      "0.9992027833018557 0.999794452318768 0.999811041425236\n",
      "total_loss : 29.728252, mse : 29.712104, pen : 0.016155\n",
      "0.9966855903085988 0.999399599712413 0.9991714756419465\n"
     ]
    },
    {
     "data": {
      "image/png": "[encoded data removed]",
      "text/plain": [
       "<Figure size 576x432 with 1 Axes>"
      ]
     },
     "metadata": {
      "needs_background": "light"
     },
     "output_type": "display_data"
    },
    {
     "name": "stdout",
     "output_type": "stream",
     "text": [
      "total_loss : 118.760689, mse : 118.739850, pen : 0.020940\n"
     ]
    }
   ],
   "source": [
    "ts_path = os.path.abspath(\"./Resources/TestingData_PeriodicTraj_Single.xlsx\")\n",
    "ts_dataset = TrajDataset(ts_path)\n",
    "\n",
    "test_config = {'save_path' : 'models/model_DDNN.pt'}\n",
    "\n",
    "model = DDNN(config['layers']).to(device)\n",
    "ckpt = torch.load(test_config['save_path'], map_location='cpu')  # Load trained model\n",
    "model.load_state_dict(ckpt)\n",
    "\n",
    "criterion = CustomLoss(mode='mse')\n",
    "\n",
    "\n",
    "from sklearn.metrics import r2_score\n",
    "\n",
    "\n",
    "ts_loss, ts_mse, ts_pen, pred, target, jtlayers = test(ts_dataset, model, criterion, device)\n",
    "\n",
    "ts_accuracy_1 = r2_score(pred[:, 0], target[:, 0])\n",
    "ts_accuracy_2 = r2_score(pred[:, 1], target[:, 1])\n",
    "ts_accuracy_3 = r2_score(pred[:, 2], target[:, 2])\n",
    "\n",
    "print(ts_accuracy_1, ts_accuracy_2, ts_accuracy_3)\n",
    "\n",
    "\n",
    "index=0\n",
    "\n",
    "figure(figsize=(8, 6))\n",
    "total_steps = len(pred)\n",
    "x_1 = np.linspace(0,2.499,total_steps)\n",
    "\n",
    "plt.plot(x_1, target[:, index], c='black', label='Ground-truth')\n",
    "plt.plot(x_1, pred[:, index], c='tab:red', label='Unc. Noise free')\n",
    "\n",
    "act_pos=jtlayers[:, 0:3]\n",
    "act_vel=jtlayers[:, 3:6]\n",
    "act_accel=jtlayers[:, 6:9]\n",
    "\n",
    "\n",
    "print('total_loss : {:4f}, mse : {:4f}, pen : {:4f}'.format(ts_loss.item(), ts_mse, ts_pen.item()))\n",
    "\n",
    "\n",
    "test_config = {'save_path' : 'models/model_PGNN.pt'}\n",
    "\n",
    "\n",
    "model = DDNN(config['layers']).to(device)\n",
    "ckpt = torch.load(test_config['save_path'], map_location='cpu')  # Load your best model\n",
    "model.load_state_dict(ckpt)\n",
    "criterion = CustomLoss(mode='mse')\n",
    "\n",
    "\n",
    "def test(ts_dataset, model, criterion, device, lim=35., preds=None, targets=None):\n",
    "    ts_loader = DataLoader(ts_dataset, config['batch_size'], shuffle = False, \n",
    "    drop_last=False, num_workers=0, pin_memory=True)\n",
    "    sample_num = len(ts_dataset)\n",
    "    hookF = [Hook(layer[1]) for layer in list(model._modules.items())]\n",
    "\n",
    "    if preds is None or targets is None:\n",
    "        model.eval()\n",
    "        preds, targets, jtlayers = [], [], []\n",
    "        total_loss = 0\n",
    "        total_ts_mse = 0\n",
    "        total_ts_pen = 0\n",
    "        cnt = 0\n",
    "        for x, y in ts_loader:\n",
    "            x, y = x.to(device), y.to(device)\n",
    "            with torch.no_grad():\n",
    "                pred = model(x)\n",
    "                preds.append(pred.detach().cpu())\n",
    "                targets.append(y.detach().cpu())\n",
    "\n",
    "                jtlayer = hookF[2].output\n",
    "                jtlayers.append(jtlayer.detach().cpu())\n",
    "                ts_loss, ts_mse, ts_pen = criterion(pred, y, x, jtlayer)\n",
    "\n",
    "            cnt = cnt+1\n",
    "            total_loss = total_loss +  ts_mse.detach().cpu().item() * len(x) + ts_pen    # ( *len(x) means error**2)            \n",
    "            total_ts_mse = total_ts_mse + ts_mse.detach().cpu().item() * len(x)\n",
    "            total_ts_pen = total_ts_pen + ts_pen\n",
    "\n",
    "        total_loss = total_loss / len(ts_loader.dataset)            # Calculate validation loss with each epoch (Criterion within CLASS model)\n",
    "        total_ts_mse = total_ts_mse / len(ts_loader.dataset)\n",
    "        total_ts_pen = total_ts_pen / len(ts_loader.dataset)\n",
    "        preds = torch.cat(preds, 0).numpy().reshape((sample_num, 3))\n",
    "        targets = torch.cat(targets, 0).numpy().reshape((sample_num, 3))\n",
    "        jtlayers = torch.cat(jtlayers, 0).numpy().reshape((sample_num, 9))\n",
    "    return total_loss, total_ts_mse, total_ts_pen, preds, targets, jtlayers\n",
    "\n",
    "\n",
    "from sklearn.metrics import r2_score\n",
    "\n",
    "\n",
    "ts_loss, ts_mse, ts_pen, pred, target, jtlayers = test(ts_dataset, model, criterion, device)\n",
    "\n",
    "\n",
    "ts_accuracy_1 = r2_score(pred[:, 0], target[:, 0])\n",
    "ts_accuracy_2 = r2_score(pred[:, 1], target[:, 1])\n",
    "ts_accuracy_3 = r2_score(pred[:, 2], target[:, 2])\n",
    "\n",
    "print(ts_accuracy_1, ts_accuracy_2, ts_accuracy_3)\n",
    "\n",
    "print('total_loss : {:4f}, mse : {:4f}, pen : {:4f}'.format(ts_loss.item(), ts_mse, ts_pen.item()))\n",
    "\n",
    "plt.plot(x_1, pred[:, index], c='tab:green', label='Con. Noise free')\n",
    "plt.xlabel('Time (s)')\n",
    "plt.ylabel('Force (Newton)')\n",
    "plt.title('Force{} prediction result'.format(index+1))\n",
    "plt.legend()\n",
    "plt.savefig(\"High resoltion.png\",dpi=300)\n",
    "plt.show()\n"
   ]
  },
  {
   "cell_type": "markdown",
   "metadata": {},
   "source": [
    "### **Write to Excel**"
   ]
  },
  {
   "cell_type": "code",
   "execution_count": null,
   "metadata": {},
   "outputs": [
    {
     "name": "stdout",
     "output_type": "stream",
     "text": [
      "Finished reading the Trajectory Dataset (10000 samples found, each dim = 9)\n"
     ]
    },
    {
     "name": "stderr",
     "output_type": "stream",
     "text": [
      "C:\\Users\\Wilson Chen\\AppData\\Local\\Temp\\ipykernel_36272\\2336131126.py:60: DeprecationWarning: Call to deprecated function remove_sheet (Use wb.remove(worksheet) or del wb[sheetname]).\n",
      "  wb.remove_sheet(wb.active)\n"
     ]
    },
    {
     "name": "stdout",
     "output_type": "stream",
     "text": [
      "0.9969158279814434 0.99682119039475 0.9967562912384207\n",
      "total_loss : 256.697388, mse : 250.655481, pen : 6.041882\n",
      "0.9969158279814434 0.99682119039475 0.9967562912384207\n"
     ]
    },
    {
     "data": {
      "image/png": "[encoded data removed]",
      "text/plain": [
       "<Figure size 576x432 with 1 Axes>"
      ]
     },
     "metadata": {
      "needs_background": "light"
     },
     "output_type": "display_data"
    }
   ],
   "source": [
    "# import openpyxl\n",
    "# from openpyxl import load_workbook\n",
    "\n",
    "# wb = openpyxl.Workbook()\n",
    "# wb.remove_sheet(wb.active)\n",
    "# wb.create_sheet('DDNN') \n",
    "# sheet = wb['DDNN']\n",
    "\n",
    "# sheet['A1'].value = 'Force_1'\n",
    "# sheet['B1'].value = 'Force_2'\n",
    "# sheet['C1'].value = 'Force_3'\n",
    "\n",
    "# for i in range(len(pred)):\n",
    "#     sheet['A' + str(i+2)].value = pred[i,0]\n",
    "#     sheet['B' + str(i+2)].value = pred[i,1]\n",
    "#     sheet['C' + str(i+2)].value = pred[i,2]\n",
    "\n",
    "# wb.save('Prediction.xlsx')"
   ]
  },
  {
   "cell_type": "markdown",
   "metadata": {},
   "source": [
    "### **Convert jupyter notebook file to python file**\n",
    "Uncomment the script below to convert jupyter notebook file (.ipynb) to python file (.py)"
   ]
  },
  {
   "cell_type": "code",
   "execution_count": null,
   "metadata": {},
   "outputs": [],
   "source": [
    "# !jupyter nbconvert --to script DataAnalysis_0804.ipynb"
   ]
  }
 ],
 "metadata": {
  "kernelspec": {
   "display_name": "Python 3.9.13 64-bit",
   "language": "python",
   "name": "python3"
  },
  "language_info": {
   "codemirror_mode": {
    "name": "ipython",
    "version": 3
   },
   "file_extension": ".py",
   "mimetype": "text/x-python",
   "name": "python",
   "nbconvert_exporter": "python",
   "pygments_lexer": "ipython3",
   "version": "3.9.13"
  },
  "orig_nbformat": 4,
  "vscode": {
   "interpreter": {
    "hash": "52634da84371cba311ea128a5ea7cdc41ff074b781779e754b270ff9f8153cee"
   }
  }
 },
 "nbformat": 4,
 "nbformat_minor": 2
}
